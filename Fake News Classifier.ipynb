{
 "cells": [
  {
   "cell_type": "code",
   "execution_count": 44,
   "metadata": {},
   "outputs": [
    {
     "data": {
      "text/html": [
       "<div>\n",
       "<style scoped>\n",
       "    .dataframe tbody tr th:only-of-type {\n",
       "        vertical-align: middle;\n",
       "    }\n",
       "\n",
       "    .dataframe tbody tr th {\n",
       "        vertical-align: top;\n",
       "    }\n",
       "\n",
       "    .dataframe thead th {\n",
       "        text-align: right;\n",
       "    }\n",
       "</style>\n",
       "<table border=\"1\" class=\"dataframe\">\n",
       "  <thead>\n",
       "    <tr style=\"text-align: right;\">\n",
       "      <th></th>\n",
       "      <th>texto normalizado</th>\n",
       "      <th>texto normalizado fake</th>\n",
       "    </tr>\n",
       "  </thead>\n",
       "  <tbody>\n",
       "    <tr>\n",
       "      <th>0</th>\n",
       "      <td>O Podemos decidiu  expulsar o deputado federal...</td>\n",
       "      <td>Kátia Abreu diz que vai colocar sua expulsão e...</td>\n",
       "    </tr>\n",
       "    <tr>\n",
       "      <th>1</th>\n",
       "      <td>Bolsonaro é um liberal completo, diz president...</td>\n",
       "      <td>Dr. Ray peita Bolsonaro, chama-o de “conservad...</td>\n",
       "    </tr>\n",
       "    <tr>\n",
       "      <th>2</th>\n",
       "      <td>Ministro do STF libera Andrea Neves de prisão ...</td>\n",
       "      <td>Reinaldo Azevedo desmascarado pela Polícia Fed...</td>\n",
       "    </tr>\n",
       "    <tr>\n",
       "      <th>3</th>\n",
       "      <td>Apesar da abundância, cresce preocupação com p...</td>\n",
       "      <td>Relatório assustador do BNDES mostra dinheiro ...</td>\n",
       "    </tr>\n",
       "    <tr>\n",
       "      <th>4</th>\n",
       "      <td>Por que Harvard e MIT levarão Dilma, Moro e Su...</td>\n",
       "      <td>Radialista americano fala sobre o PT: \"Eles ve...</td>\n",
       "    </tr>\n",
       "  </tbody>\n",
       "</table>\n",
       "</div>"
      ],
      "text/plain": [
       "                                   texto normalizado  \\\n",
       "0  O Podemos decidiu  expulsar o deputado federal...   \n",
       "1  Bolsonaro é um liberal completo, diz president...   \n",
       "2  Ministro do STF libera Andrea Neves de prisão ...   \n",
       "3  Apesar da abundância, cresce preocupação com p...   \n",
       "4  Por que Harvard e MIT levarão Dilma, Moro e Su...   \n",
       "\n",
       "                              texto normalizado fake  \n",
       "0  Kátia Abreu diz que vai colocar sua expulsão e...  \n",
       "1  Dr. Ray peita Bolsonaro, chama-o de “conservad...  \n",
       "2  Reinaldo Azevedo desmascarado pela Polícia Fed...  \n",
       "3  Relatório assustador do BNDES mostra dinheiro ...  \n",
       "4  Radialista americano fala sobre o PT: \"Eles ve...  "
      ]
     },
     "execution_count": 44,
     "metadata": {},
     "output_type": "execute_result"
    }
   ],
   "source": [
    "import glob\n",
    "import pandas as pd\n",
    "\n",
    "lista_nomes_arquivos = glob.glob('Fake.br-Corpus-master/size_normalized_texts/true/*.txt')\n",
    "lista_textos = []\n",
    "for nome_arquivo in lista_nomes_arquivos:\n",
    "    text = []\n",
    "    with open(nome_arquivo , 'r',encoding='utf8') as f:\n",
    "        lines = f.readlines()\n",
    "        for line in lines:\n",
    "            text.append(line)\n",
    "          \n",
    "    lista_textos.append([''.join(text)])\n",
    "\n",
    "lista_nomes_arquivos_fake = glob.glob('Fake.br-Corpus-master/size_normalized_texts/fake/*.txt')\n",
    "lista_textos_fake = []\n",
    "for nome_arquivo in lista_nomes_arquivos_fake:\n",
    "    text = []\n",
    "    with open(nome_arquivo , 'r',encoding='utf8') as f:\n",
    "        lines = f.readlines()\n",
    "        for line in lines:\n",
    "            text.append(line)\n",
    "          \n",
    "    lista_textos_fake.append([''.join(text)])\n",
    "    \n",
    "    \n",
    "df_fake = pd.DataFrame(lista_textos_fake,columns=[\"texto normalizado fake\"])    \n",
    "df[\"texto normalizado fake\"] = df_fake;\n",
    "df.head()        "
   ]
  },
  {
   "cell_type": "code",
   "execution_count": 45,
   "metadata": {},
   "outputs": [
    {
     "data": {
      "text/plain": [
       "(3600, 2)"
      ]
     },
     "execution_count": 45,
     "metadata": {},
     "output_type": "execute_result"
    }
   ],
   "source": [
    "df.shape"
   ]
  },
  {
   "cell_type": "code",
   "execution_count": null,
   "metadata": {},
   "outputs": [],
   "source": []
  }
 ],
 "metadata": {
  "kernelspec": {
   "display_name": "Python 3",
   "language": "python",
   "name": "python3"
  },
  "language_info": {
   "codemirror_mode": {
    "name": "ipython",
    "version": 3
   },
   "file_extension": ".py",
   "mimetype": "text/x-python",
   "name": "python",
   "nbconvert_exporter": "python",
   "pygments_lexer": "ipython3",
   "version": "3.7.1"
  }
 },
 "nbformat": 4,
 "nbformat_minor": 2
}

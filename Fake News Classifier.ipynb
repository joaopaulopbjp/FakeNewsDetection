{
 "cells": [
  {
   "cell_type": "code",
   "execution_count": 2,
   "metadata": {},
   "outputs": [],
   "source": [
    "import pandas as pd"
   ]
  },
  {
   "cell_type": "code",
   "execution_count": 3,
   "metadata": {},
   "outputs": [],
   "source": [
    "df_tratado = pd.read_csv('fake_news_fakebrcorpus.csv', sep=';', encoding='utf-8')"
   ]
  },
  {
   "cell_type": "code",
   "execution_count": 4,
   "metadata": {},
   "outputs": [
    {
     "data": {
      "text/html": [
       "<div>\n",
       "<style scoped>\n",
       "    .dataframe tbody tr th:only-of-type {\n",
       "        vertical-align: middle;\n",
       "    }\n",
       "\n",
       "    .dataframe tbody tr th {\n",
       "        vertical-align: top;\n",
       "    }\n",
       "\n",
       "    .dataframe thead th {\n",
       "        text-align: right;\n",
       "    }\n",
       "</style>\n",
       "<table border=\"1\" class=\"dataframe\">\n",
       "  <thead>\n",
       "    <tr style=\"text-align: right;\">\n",
       "      <th></th>\n",
       "      <th>seq</th>\n",
       "      <th>texto normalizado</th>\n",
       "      <th>author</th>\n",
       "      <th>link</th>\n",
       "      <th>category</th>\n",
       "      <th>number of tokens</th>\n",
       "      <th>number of types</th>\n",
       "      <th>number of links inside the news</th>\n",
       "      <th>number of verbs</th>\n",
       "      <th>number of subjuntive and imperative verbs</th>\n",
       "      <th>number of nouns</th>\n",
       "      <th>number of adjectives</th>\n",
       "      <th>number of adverbs</th>\n",
       "      <th>number of modal verbs (mainly auxiliary verbs)</th>\n",
       "      <th>number of pronouns</th>\n",
       "      <th>percentage of news with speeling errors</th>\n",
       "      <th>emotiveness</th>\n",
       "      <th>diversity</th>\n",
       "      <th>fake</th>\n",
       "    </tr>\n",
       "  </thead>\n",
       "  <tbody>\n",
       "    <tr>\n",
       "      <th>0</th>\n",
       "      <td>1</td>\n",
       "      <td>O Podemos decidiu  expulsar o deputado federal...</td>\n",
       "      <td>Naira Trindade\\r\\n</td>\n",
       "      <td>http://politica.estadao.com.br/blogs/coluna-do...</td>\n",
       "      <td>politica\\r\\n</td>\n",
       "      <td>168</td>\n",
       "      <td>107</td>\n",
       "      <td>None\\r\\n</td>\n",
       "      <td>24</td>\n",
       "      <td>2</td>\n",
       "      <td>43</td>\n",
       "      <td>5</td>\n",
       "      <td>4</td>\n",
       "      <td>3</td>\n",
       "      <td>7</td>\n",
       "      <td>0.000000</td>\n",
       "      <td>0.134328</td>\n",
       "      <td>0.722973</td>\n",
       "      <td>0</td>\n",
       "    </tr>\n",
       "    <tr>\n",
       "      <th>1</th>\n",
       "      <td>2</td>\n",
       "      <td>Bolsonaro é um liberal completo, diz president...</td>\n",
       "      <td>Marco Rodrigo Almeida\\r\\n</td>\n",
       "      <td>http://www1.folha.uol.com.br/poder/2018/01/194...</td>\n",
       "      <td>politica\\r\\n</td>\n",
       "      <td>1028</td>\n",
       "      <td>474</td>\n",
       "      <td>None\\r\\n</td>\n",
       "      <td>135</td>\n",
       "      <td>2</td>\n",
       "      <td>237</td>\n",
       "      <td>56</td>\n",
       "      <td>45</td>\n",
       "      <td>14</td>\n",
       "      <td>63</td>\n",
       "      <td>0.001156</td>\n",
       "      <td>0.271505</td>\n",
       "      <td>0.547977</td>\n",
       "      <td>0</td>\n",
       "    </tr>\n",
       "    <tr>\n",
       "      <th>2</th>\n",
       "      <td>3</td>\n",
       "      <td>Ministro do STF libera Andrea Neves de prisão ...</td>\n",
       "      <td>Fernando Zuba , Pedro Ângelo E Renan Ramalho\\r\\n</td>\n",
       "      <td>https://g1.globo.com/mg/minas-gerais/noticia/s...</td>\n",
       "      <td>politica\\r\\n</td>\n",
       "      <td>540</td>\n",
       "      <td>232</td>\n",
       "      <td>None\\r\\n</td>\n",
       "      <td>69</td>\n",
       "      <td>0</td>\n",
       "      <td>146</td>\n",
       "      <td>10</td>\n",
       "      <td>20</td>\n",
       "      <td>7</td>\n",
       "      <td>19</td>\n",
       "      <td>0.000000</td>\n",
       "      <td>0.139535</td>\n",
       "      <td>0.487395</td>\n",
       "      <td>0</td>\n",
       "    </tr>\n",
       "    <tr>\n",
       "      <th>3</th>\n",
       "      <td>4</td>\n",
       "      <td>Apesar da abundância, cresce preocupação com p...</td>\n",
       "      <td>Por Anderson Viegas, G1 MS \\r\\n</td>\n",
       "      <td>https://g1.globo.com/mato-grosso-do-sul/notici...</td>\n",
       "      <td>politica\\r\\n</td>\n",
       "      <td>8634</td>\n",
       "      <td>2199</td>\n",
       "      <td>0\\r\\n</td>\n",
       "      <td>1053</td>\n",
       "      <td>29</td>\n",
       "      <td>2170</td>\n",
       "      <td>443</td>\n",
       "      <td>278</td>\n",
       "      <td>174</td>\n",
       "      <td>384</td>\n",
       "      <td>0.002504</td>\n",
       "      <td>0.223705</td>\n",
       "      <td>0.289800</td>\n",
       "      <td>0</td>\n",
       "    </tr>\n",
       "    <tr>\n",
       "      <th>4</th>\n",
       "      <td>5</td>\n",
       "      <td>Por que Harvard e MIT levarão Dilma, Moro e Su...</td>\n",
       "      <td>Por BBC \\r\\n</td>\n",
       "      <td>https://g1.globo.com/educacao/noticia/por-que-...</td>\n",
       "      <td>politica\\r\\n</td>\n",
       "      <td>955</td>\n",
       "      <td>452</td>\n",
       "      <td>0\\r\\n</td>\n",
       "      <td>96</td>\n",
       "      <td>1</td>\n",
       "      <td>262</td>\n",
       "      <td>36</td>\n",
       "      <td>50</td>\n",
       "      <td>8</td>\n",
       "      <td>33</td>\n",
       "      <td>0.000000</td>\n",
       "      <td>0.240223</td>\n",
       "      <td>0.549210</td>\n",
       "      <td>0</td>\n",
       "    </tr>\n",
       "  </tbody>\n",
       "</table>\n",
       "</div>"
      ],
      "text/plain": [
       "   seq                                  texto normalizado  \\\n",
       "0    1  O Podemos decidiu  expulsar o deputado federal...   \n",
       "1    2  Bolsonaro é um liberal completo, diz president...   \n",
       "2    3  Ministro do STF libera Andrea Neves de prisão ...   \n",
       "3    4  Apesar da abundância, cresce preocupação com p...   \n",
       "4    5  Por que Harvard e MIT levarão Dilma, Moro e Su...   \n",
       "\n",
       "                                             author  \\\n",
       "0                                Naira Trindade\\r\\n   \n",
       "1                         Marco Rodrigo Almeida\\r\\n   \n",
       "2  Fernando Zuba , Pedro Ângelo E Renan Ramalho\\r\\n   \n",
       "3                   Por Anderson Viegas, G1 MS \\r\\n   \n",
       "4                                      Por BBC \\r\\n   \n",
       "\n",
       "                                                link      category  \\\n",
       "0  http://politica.estadao.com.br/blogs/coluna-do...  politica\\r\\n   \n",
       "1  http://www1.folha.uol.com.br/poder/2018/01/194...  politica\\r\\n   \n",
       "2  https://g1.globo.com/mg/minas-gerais/noticia/s...  politica\\r\\n   \n",
       "3  https://g1.globo.com/mato-grosso-do-sul/notici...  politica\\r\\n   \n",
       "4  https://g1.globo.com/educacao/noticia/por-que-...  politica\\r\\n   \n",
       "\n",
       "   number of tokens  number of types number of links inside the news  \\\n",
       "0               168              107                        None\\r\\n   \n",
       "1              1028              474                        None\\r\\n   \n",
       "2               540              232                        None\\r\\n   \n",
       "3              8634             2199                           0\\r\\n   \n",
       "4               955              452                           0\\r\\n   \n",
       "\n",
       "   number of verbs  number of subjuntive and imperative verbs  \\\n",
       "0               24                                          2   \n",
       "1              135                                          2   \n",
       "2               69                                          0   \n",
       "3             1053                                         29   \n",
       "4               96                                          1   \n",
       "\n",
       "   number of nouns  number of adjectives  number of adverbs  \\\n",
       "0               43                     5                  4   \n",
       "1              237                    56                 45   \n",
       "2              146                    10                 20   \n",
       "3             2170                   443                278   \n",
       "4              262                    36                 50   \n",
       "\n",
       "   number of modal verbs (mainly auxiliary verbs)  number of pronouns  \\\n",
       "0                                               3                   7   \n",
       "1                                              14                  63   \n",
       "2                                               7                  19   \n",
       "3                                             174                 384   \n",
       "4                                               8                  33   \n",
       "\n",
       "   percentage of news with speeling errors  emotiveness  diversity  fake  \n",
       "0                                 0.000000     0.134328   0.722973     0  \n",
       "1                                 0.001156     0.271505   0.547977     0  \n",
       "2                                 0.000000     0.139535   0.487395     0  \n",
       "3                                 0.002504     0.223705   0.289800     0  \n",
       "4                                 0.000000     0.240223   0.549210     0  "
      ]
     },
     "execution_count": 4,
     "metadata": {},
     "output_type": "execute_result"
    }
   ],
   "source": [
    "df_tratado.head()"
   ]
  },
  {
   "cell_type": "code",
   "execution_count": 5,
   "metadata": {},
   "outputs": [],
   "source": [
    "df_politica = df_tratado.loc[df_tratado[\"category\"]=='politica\\r\\n']"
   ]
  },
  {
   "cell_type": "code",
   "execution_count": 6,
   "metadata": {},
   "outputs": [
    {
     "data": {
      "text/html": [
       "<div>\n",
       "<style scoped>\n",
       "    .dataframe tbody tr th:only-of-type {\n",
       "        vertical-align: middle;\n",
       "    }\n",
       "\n",
       "    .dataframe tbody tr th {\n",
       "        vertical-align: top;\n",
       "    }\n",
       "\n",
       "    .dataframe thead th {\n",
       "        text-align: right;\n",
       "    }\n",
       "</style>\n",
       "<table border=\"1\" class=\"dataframe\">\n",
       "  <thead>\n",
       "    <tr style=\"text-align: right;\">\n",
       "      <th></th>\n",
       "      <th>seq</th>\n",
       "      <th>texto normalizado</th>\n",
       "      <th>author</th>\n",
       "      <th>link</th>\n",
       "      <th>category</th>\n",
       "      <th>number of tokens</th>\n",
       "      <th>number of types</th>\n",
       "      <th>number of links inside the news</th>\n",
       "      <th>number of verbs</th>\n",
       "      <th>number of subjuntive and imperative verbs</th>\n",
       "      <th>number of nouns</th>\n",
       "      <th>number of adjectives</th>\n",
       "      <th>number of adverbs</th>\n",
       "      <th>number of modal verbs (mainly auxiliary verbs)</th>\n",
       "      <th>number of pronouns</th>\n",
       "      <th>percentage of news with speeling errors</th>\n",
       "      <th>emotiveness</th>\n",
       "      <th>diversity</th>\n",
       "      <th>fake</th>\n",
       "    </tr>\n",
       "  </thead>\n",
       "  <tbody>\n",
       "    <tr>\n",
       "      <th>7189</th>\n",
       "      <td>7190</td>\n",
       "      <td>Caiu a máscara do Prof. Villa da Jovem Pan. Ví...</td>\n",
       "      <td>None\\r\\n</td>\n",
       "      <td>https://afolhabrasil.com.br/politica/caiu-masc...</td>\n",
       "      <td>politica\\r\\n</td>\n",
       "      <td>96</td>\n",
       "      <td>63</td>\n",
       "      <td>0\\r\\n</td>\n",
       "      <td>11</td>\n",
       "      <td>0</td>\n",
       "      <td>27</td>\n",
       "      <td>1</td>\n",
       "      <td>1</td>\n",
       "      <td>1</td>\n",
       "      <td>2</td>\n",
       "      <td>0.0</td>\n",
       "      <td>0.052632</td>\n",
       "      <td>0.741176</td>\n",
       "      <td>1</td>\n",
       "    </tr>\n",
       "    <tr>\n",
       "      <th>7192</th>\n",
       "      <td>7193</td>\n",
       "      <td>Deputado e senador pedem para \"abrir mão\" do f...</td>\n",
       "      <td>None\\r\\n</td>\n",
       "      <td>https://www.diariodobrasil.org/deputado-e-sena...</td>\n",
       "      <td>politica\\r\\n</td>\n",
       "      <td>187</td>\n",
       "      <td>109</td>\n",
       "      <td>0\\r\\n</td>\n",
       "      <td>25</td>\n",
       "      <td>0</td>\n",
       "      <td>47</td>\n",
       "      <td>11</td>\n",
       "      <td>5</td>\n",
       "      <td>1</td>\n",
       "      <td>8</td>\n",
       "      <td>0.0</td>\n",
       "      <td>0.222222</td>\n",
       "      <td>0.712418</td>\n",
       "      <td>1</td>\n",
       "    </tr>\n",
       "    <tr>\n",
       "      <th>7195</th>\n",
       "      <td>7196</td>\n",
       "      <td>FT: \"O julgamento de um populista que usou din...</td>\n",
       "      <td>None\\r\\n</td>\n",
       "      <td>https://www.diariodobrasil.org/ft-o-julgamento...</td>\n",
       "      <td>politica\\r\\n</td>\n",
       "      <td>185</td>\n",
       "      <td>101</td>\n",
       "      <td>0\\r\\n</td>\n",
       "      <td>27</td>\n",
       "      <td>0</td>\n",
       "      <td>46</td>\n",
       "      <td>9</td>\n",
       "      <td>4</td>\n",
       "      <td>4</td>\n",
       "      <td>10</td>\n",
       "      <td>0.0</td>\n",
       "      <td>0.178082</td>\n",
       "      <td>0.619632</td>\n",
       "      <td>1</td>\n",
       "    </tr>\n",
       "    <tr>\n",
       "      <th>7196</th>\n",
       "      <td>7197</td>\n",
       "      <td>Nota fiscal emitida pela Petrobras mostra que ...</td>\n",
       "      <td>None\\r\\n</td>\n",
       "      <td>https://www.diariodobrasil.org/nota-fiscal-emi...</td>\n",
       "      <td>politica\\r\\n</td>\n",
       "      <td>148</td>\n",
       "      <td>86</td>\n",
       "      <td>1\\r\\n</td>\n",
       "      <td>19</td>\n",
       "      <td>0</td>\n",
       "      <td>38</td>\n",
       "      <td>9</td>\n",
       "      <td>2</td>\n",
       "      <td>4</td>\n",
       "      <td>2</td>\n",
       "      <td>0.0</td>\n",
       "      <td>0.192982</td>\n",
       "      <td>0.651515</td>\n",
       "      <td>1</td>\n",
       "    </tr>\n",
       "    <tr>\n",
       "      <th>7197</th>\n",
       "      <td>7198</td>\n",
       "      <td>Estão estancando a sangria da \"Lava-Jato\" bem ...</td>\n",
       "      <td>None\\r\\n</td>\n",
       "      <td>https://www.diariodobrasil.org/estao-estancand...</td>\n",
       "      <td>politica\\r\\n</td>\n",
       "      <td>313</td>\n",
       "      <td>181</td>\n",
       "      <td>0\\r\\n</td>\n",
       "      <td>43</td>\n",
       "      <td>2</td>\n",
       "      <td>76</td>\n",
       "      <td>14</td>\n",
       "      <td>8</td>\n",
       "      <td>6</td>\n",
       "      <td>17</td>\n",
       "      <td>0.0</td>\n",
       "      <td>0.184874</td>\n",
       "      <td>0.665441</td>\n",
       "      <td>1</td>\n",
       "    </tr>\n",
       "  </tbody>\n",
       "</table>\n",
       "</div>"
      ],
      "text/plain": [
       "       seq                                  texto normalizado    author  \\\n",
       "7189  7190  Caiu a máscara do Prof. Villa da Jovem Pan. Ví...  None\\r\\n   \n",
       "7192  7193  Deputado e senador pedem para \"abrir mão\" do f...  None\\r\\n   \n",
       "7195  7196  FT: \"O julgamento de um populista que usou din...  None\\r\\n   \n",
       "7196  7197  Nota fiscal emitida pela Petrobras mostra que ...  None\\r\\n   \n",
       "7197  7198  Estão estancando a sangria da \"Lava-Jato\" bem ...  None\\r\\n   \n",
       "\n",
       "                                                   link      category  \\\n",
       "7189  https://afolhabrasil.com.br/politica/caiu-masc...  politica\\r\\n   \n",
       "7192  https://www.diariodobrasil.org/deputado-e-sena...  politica\\r\\n   \n",
       "7195  https://www.diariodobrasil.org/ft-o-julgamento...  politica\\r\\n   \n",
       "7196  https://www.diariodobrasil.org/nota-fiscal-emi...  politica\\r\\n   \n",
       "7197  https://www.diariodobrasil.org/estao-estancand...  politica\\r\\n   \n",
       "\n",
       "      number of tokens  number of types number of links inside the news  \\\n",
       "7189                96               63                           0\\r\\n   \n",
       "7192               187              109                           0\\r\\n   \n",
       "7195               185              101                           0\\r\\n   \n",
       "7196               148               86                           1\\r\\n   \n",
       "7197               313              181                           0\\r\\n   \n",
       "\n",
       "      number of verbs  number of subjuntive and imperative verbs  \\\n",
       "7189               11                                          0   \n",
       "7192               25                                          0   \n",
       "7195               27                                          0   \n",
       "7196               19                                          0   \n",
       "7197               43                                          2   \n",
       "\n",
       "      number of nouns  number of adjectives  number of adverbs  \\\n",
       "7189               27                     1                  1   \n",
       "7192               47                    11                  5   \n",
       "7195               46                     9                  4   \n",
       "7196               38                     9                  2   \n",
       "7197               76                    14                  8   \n",
       "\n",
       "      number of modal verbs (mainly auxiliary verbs)  number of pronouns  \\\n",
       "7189                                               1                   2   \n",
       "7192                                               1                   8   \n",
       "7195                                               4                  10   \n",
       "7196                                               4                   2   \n",
       "7197                                               6                  17   \n",
       "\n",
       "      percentage of news with speeling errors  emotiveness  diversity  fake  \n",
       "7189                                      0.0     0.052632   0.741176     1  \n",
       "7192                                      0.0     0.222222   0.712418     1  \n",
       "7195                                      0.0     0.178082   0.619632     1  \n",
       "7196                                      0.0     0.192982   0.651515     1  \n",
       "7197                                      0.0     0.184874   0.665441     1  "
      ]
     },
     "execution_count": 6,
     "metadata": {},
     "output_type": "execute_result"
    }
   ],
   "source": [
    "df_politica.tail()"
   ]
  },
  {
   "cell_type": "code",
   "execution_count": 7,
   "metadata": {},
   "outputs": [
    {
     "data": {
      "text/plain": [
       "(4180, 19)"
      ]
     },
     "execution_count": 7,
     "metadata": {},
     "output_type": "execute_result"
    }
   ],
   "source": [
    "df_politica.shape"
   ]
  },
  {
   "cell_type": "code",
   "execution_count": 8,
   "metadata": {},
   "outputs": [],
   "source": [
    "from sklearn.feature_extraction.text import CountVectorizer\n",
    "from sklearn.feature_extraction.text import TfidfVectorizer"
   ]
  },
  {
   "cell_type": "code",
   "execution_count": 9,
   "metadata": {},
   "outputs": [],
   "source": [
    "from sklearn.model_selection import train_test_split\n",
    "from sklearn.linear_model import LogisticRegression"
   ]
  },
  {
   "cell_type": "code",
   "execution_count": 10,
   "metadata": {},
   "outputs": [],
   "source": [
    "import numpy as np\n",
    "\n",
    "#normalizes attributes frequencies\n",
    "def normalizeData(data):\n",
    "\trows_sum = np.sum(data, axis=1)\n",
    "\tdata = (data.T / rows_sum).T\n",
    "\treturn data"
   ]
  },
  {
   "cell_type": "code",
   "execution_count": 11,
   "metadata": {},
   "outputs": [],
   "source": [
    "#removes attributes with frequency under min_freq on the dataset\n",
    "def removeMinFreq(data, labels, min_freq = 1):\n",
    "    # counting no. of ocurrences per word\n",
    "    cols_sum = np.sum(data, axis=0)\n",
    "\n",
    "    #creating an array with indexes of columns that must be deleted \n",
    "    del_indexes = []\n",
    "    #for each val[i] in the cols_sum\n",
    "    for i, val in zip(range(len(cols_sum)), cols_sum):\n",
    "        #if that val is smaller than the minimun freq. insert i into the array\n",
    "        if val < min_freq:\n",
    "            del_indexes.append(i)\n",
    "\n",
    "    #deleting columns with minimum frequency smaller than x\n",
    "    #calls np.delete on the array, asking it to delete all columns with indexes given by del_indexes\n",
    "    data = np.delete(data,del_indexes,1) \n",
    "    labels = np.delete(labels,del_indexes,0)\n",
    "    return (data, labels)"
   ]
  },
  {
   "cell_type": "code",
   "execution_count": 96,
   "metadata": {},
   "outputs": [],
   "source": [
    "import numpy as np\n",
    "from sklearn.feature_extraction.text import CountVectorizer\n",
    "from sklearn.feature_extraction.text import TfidfVectorizer,TfidfTransformer\n",
    "from sklearn.model_selection import StratifiedKFold\n",
    "from sklearn.metrics import accuracy_score, precision_score, classification_report, confusion_matrix\n",
    "from sklearn.pipeline import Pipeline\n",
    "\n",
    "def classificar_texto(pipe, texto, coluna_texto, coluna_classificacao,isXGB):\n",
    "    \n",
    "    #treino, teste, classe_treino, classe_teste = train_test_split(bag_of_words_df,\n",
    "    #                                                          texto[coluna_classificacao],\n",
    "    #                                                          test_size=0.20,\n",
    "    #                                                          random_state = 42,shuffle = True, stratify = texto[coluna_classificacao])\n",
    "    \n",
    "    kf = StratifiedKFold(n_splits=5,shuffle=True,random_state = 42)\n",
    "    all_classes_tests = []\n",
    "    all_predictions = []\n",
    "    \n",
    "    for train_index, test_index in kf.split(texto[coluna_texto], texto[coluna_classificacao]):\n",
    "        treino_kf = texto[coluna_texto].values[train_index]\n",
    "        classe_treino_kf = texto[coluna_classificacao].values[train_index]\n",
    "        teste_kf = texto[coluna_texto].values[test_index]\n",
    "        classe_teste_kf = texto[coluna_classificacao].values[test_index]\n",
    "    \n",
    "        y_pred = []\n",
    "        predictions = []\n",
    "    \n",
    "        if(isXGB == 1):\n",
    "            pipe.fit(treino_kf, classe_treino_kf)\n",
    "            y_pred = pipe.predict(teste_kf)\n",
    "            predictions = [round(value) for value in y_pred]\n",
    "        else: \n",
    "            pipe.fit(treino_kf, classe_treino_kf)\n",
    "            predictions = pipe.predict(teste_kf)\n",
    "        \n",
    "        for predict in predictions:\n",
    "            all_predictions.append(predict)\n",
    "            \n",
    "        for clas_teste in classe_teste_kf:\n",
    "            all_classes_tests.append(clas_teste)\n",
    "\n",
    "    # evaluate predictions\n",
    "    print (\"Accuracy:\", accuracy_score(all_classes_tests, all_predictions))\n",
    "    print (\"Precision:\", precision_score(all_classes_tests, all_predictions))\n",
    "    print (classification_report(all_classes_tests, all_predictions))\n",
    "    print (confusion_matrix(all_classes_tests, all_predictions))\n",
    "    \n",
    "    "
   ]
  },
  {
   "cell_type": "code",
   "execution_count": 32,
   "metadata": {},
   "outputs": [],
   "source": [
    "import nltk\n",
    "from nltk import tokenize\n",
    "import matplotlib.pyplot as plt\n",
    "import seaborn as sns\n",
    "\n",
    "def pareto(texto, coluna_texto, quantidade):\n",
    "\n",
    "    token_espaco = tokenize.WhitespaceTokenizer()\n",
    "    todas_palavras = ' '.join([texto for texto in texto[coluna_texto]])\n",
    "    token_frase = token_espaco.tokenize(todas_palavras)\n",
    "    frequencia = nltk.FreqDist(token_frase)\n",
    "    df_frequencia = pd.DataFrame({\"Palavra\": list(frequencia.keys()),\n",
    "                                   \"Frequência\": list(frequencia.values())})\n",
    "    df_frequencia = df_frequencia.nlargest(columns = \"Frequência\", n = quantidade)\n",
    "    plt.figure(figsize=(12,8))\n",
    "    ax = sns.barplot(data = df_frequencia, x = \"Palavra\", y = \"Frequência\", color = 'gray')\n",
    "    ax.set(ylabel = \"Contagem\")\n",
    "    plt.show()    "
   ]
  },
  {
   "cell_type": "code",
   "execution_count": 14,
   "metadata": {},
   "outputs": [
    {
     "data": {
      "image/png": "[encoded data removed]",
      "text/plain": [
       "<Figure size 864x576 with 1 Axes>"
      ]
     },
     "metadata": {
      "needs_background": "light"
     },
     "output_type": "display_data"
    }
   ],
   "source": [
    "pareto(df_politica, \"texto normalizado\", 10)"
   ]
  },
  {
   "cell_type": "code",
   "execution_count": 12,
   "metadata": {},
   "outputs": [
    {
     "name": "stderr",
     "output_type": "stream",
     "text": [
      "[nltk_data] Downloading package stopwords to\n",
      "[nltk_data]     C:\\Users\\jp\\AppData\\Roaming\\nltk_data...\n",
      "[nltk_data]   Package stopwords is already up-to-date!\n",
      "[nltk_data] Downloading package rslp to\n",
      "[nltk_data]     C:\\Users\\jp\\AppData\\Roaming\\nltk_data...\n",
      "[nltk_data]   Package rslp is already up-to-date!\n"
     ]
    }
   ],
   "source": [
    "import nltk\n",
    "nltk.download('stopwords')\n",
    "nltk.download('rslp')\n",
    "from nltk.stem import SnowballStemmer"
   ]
  },
  {
   "cell_type": "code",
   "execution_count": 13,
   "metadata": {},
   "outputs": [],
   "source": [
    "from nltk import tokenize\n",
    "import seaborn as sns\n",
    "import matplotlib.pyplot as plt\n",
    "from string import punctuation\n",
    "import unidecode\n",
    "import re\n",
    "\n",
    "\n",
    "def limpeza(texto,coluna):\n",
    "    stop_words_pt = nltk.corpus.stopwords.words(\"portuguese\")\n",
    "    stemmer = SnowballStemmer(\"portuguese\")\n",
    "    #stemmer = nltk.RSLPStemmer()\n",
    "    token = tokenize.WordPunctTokenizer()\n",
    "\n",
    "    pontuacao = list()\n",
    "    for ponto in punctuation:\n",
    "        pontuacao.append(ponto)\n",
    "\n",
    "    pontuacao_stopwords = pontuacao + stop_words_pt\n",
    "    stopwords_sem_acento = [unidecode.unidecode(texto) for texto in pontuacao_stopwords]\n",
    "\n",
    "    #Transformando para minusculo, removendo stop words e pontuacao e realizando stemetização    \n",
    "    \n",
    "    frase_processada = list()\n",
    "    for frase in texto[coluna]:\n",
    "        nova_frase = list()\n",
    "        palavras_texto = token.tokenize(frase.lower())\n",
    "        for palavra in palavras_texto:\n",
    "            palavra_sem_numero = re.sub('[0-9]', '' , palavra)\n",
    "            palavra_sem_acento = unidecode.unidecode(palavra_sem_numero)\n",
    "            if ((len(palavra_sem_acento) > 0) and (palavra_sem_acento not in stopwords_sem_acento) and palavra_sem_acento.isalpha()):\n",
    "                palavra_stem = stemmer.stem(palavra_sem_acento)\n",
    "                if(len(palavra_stem) > 1):\n",
    "                    nova_frase.append(palavra_stem)\n",
    "        frase_processada.append(' '.join(nova_frase))\n",
    "    \n",
    "    return frase_processada"
   ]
  },
  {
   "cell_type": "code",
   "execution_count": 14,
   "metadata": {},
   "outputs": [],
   "source": [
    "import string\n",
    "def limpeza2(texto,coluna):\n",
    "    with open('var/stopwords.txt') as f:\n",
    "        cachedStopWords = f.read()\n",
    "        stemmer = nltk.stem.SnowballStemmer('portuguese')\n",
    "        translator = str.maketrans({key:' ' for key in string.punctuation})\n",
    "    frase_processada = list()\n",
    "    for frase in texto[coluna]:\n",
    "        result = ''\n",
    "        result = re.sub('[0-9]', '' , frase.translate(translator)).lower()\n",
    "        result = ' '.join([stemmer.stem(word) for word in result.split() if word not in cachedStopWords])\n",
    "        frase_processada.append(''.join(result))\n",
    "    return frase_processada"
   ]
  },
  {
   "cell_type": "code",
   "execution_count": 15,
   "metadata": {},
   "outputs": [
    {
     "name": "stderr",
     "output_type": "stream",
     "text": [
      "C:\\ProgramData\\Anaconda3\\lib\\site-packages\\ipykernel_launcher.py:1: SettingWithCopyWarning: \n",
      "A value is trying to be set on a copy of a slice from a DataFrame.\n",
      "Try using .loc[row_indexer,col_indexer] = value instead\n",
      "\n",
      "See the caveats in the documentation: http://pandas.pydata.org/pandas-docs/stable/indexing.html#indexing-view-versus-copy\n",
      "  \"\"\"Entry point for launching an IPython kernel.\n"
     ]
    }
   ],
   "source": [
    "df_politica['texto preprocessado2'] = limpeza2(df_politica,\"texto normalizado\")"
   ]
  },
  {
   "cell_type": "code",
   "execution_count": 19,
   "metadata": {},
   "outputs": [
    {
     "data": {
      "text/plain": [
       "0    pod decid expuls deput federal carl gaguim par...\n",
       "1    bolsonar é liberal complet diz president psl p...\n",
       "2    ministr stf lib andre nev prisã domicili decis...\n",
       "3    apes abund cresc preocup preserv font uso raci...\n",
       "4    harvard mit lev dilm mor suplicy eua megaconfe...\n",
       "Name: texto preprocessado2, dtype: object"
      ]
     },
     "execution_count": 19,
     "metadata": {},
     "output_type": "execute_result"
    }
   ],
   "source": [
    "df_politica['texto preprocessado2'].head()"
   ]
  },
  {
   "cell_type": "code",
   "execution_count": 86,
   "metadata": {},
   "outputs": [
    {
     "name": "stderr",
     "output_type": "stream",
     "text": [
      "C:\\ProgramData\\Anaconda3\\lib\\site-packages\\ipykernel_launcher.py:1: SettingWithCopyWarning: \n",
      "A value is trying to be set on a copy of a slice from a DataFrame.\n",
      "Try using .loc[row_indexer,col_indexer] = value instead\n",
      "\n",
      "See the caveats in the documentation: http://pandas.pydata.org/pandas-docs/stable/indexing.html#indexing-view-versus-copy\n",
      "  \"\"\"Entry point for launching an IPython kernel.\n"
     ]
    }
   ],
   "source": [
    "df_politica['texto preprocessado'] = limpeza(df_politica,\"texto normalizado\")"
   ]
  },
  {
   "cell_type": "code",
   "execution_count": 138,
   "metadata": {},
   "outputs": [
    {
     "data": {
      "text/plain": [
       "0    pod decid expuls deput federal carl gaguim par...\n",
       "1    bolsonar liberal complet diz president psl par...\n",
       "2    ministr stf lib andre nev prisa domicili decis...\n",
       "3    apes abundanc cresc preocupaca preservaca font...\n",
       "4    harvard mit levara dilm mor suplicy eua megaco...\n",
       "Name: texto preprocessado, dtype: object"
      ]
     },
     "execution_count": 138,
     "metadata": {},
     "output_type": "execute_result"
    }
   ],
   "source": [
    "df_politica['texto preprocessado'].head()"
   ]
  },
  {
   "cell_type": "code",
   "execution_count": 140,
   "metadata": {},
   "outputs": [
    {
     "data": {
      "image/png": "[encoded data removed]",
      "text/plain": [
       "<Figure size 864x576 with 1 Axes>"
      ]
     },
     "metadata": {
      "needs_background": "light"
     },
     "output_type": "display_data"
    }
   ],
   "source": [
    "pareto(df_politica, \"texto preprocessado\", 25)"
   ]
  },
  {
   "cell_type": "code",
   "execution_count": 92,
   "metadata": {},
   "outputs": [],
   "source": [
    "countV = CountVectorizer(lowercase=False, max_features=1000)\n",
    "tfidfV = TfidfVectorizer(lowercase=False, max_features=1000)"
   ]
  },
  {
   "cell_type": "code",
   "execution_count": 93,
   "metadata": {},
   "outputs": [],
   "source": [
    "regressao_logistica = LogisticRegression(solver = \"lbfgs\")"
   ]
  },
  {
   "cell_type": "code",
   "execution_count": 94,
   "metadata": {},
   "outputs": [],
   "source": [
    "pipe = Pipeline([\n",
    "    ('cv', CountVectorizer()),\n",
    "    ('tfidf', TfidfTransformer()),\n",
    "    ('classificador', regressao_logistica),\n",
    "    ])\n"
   ]
  },
  {
   "cell_type": "code",
   "execution_count": 97,
   "metadata": {},
   "outputs": [
    {
     "name": "stdout",
     "output_type": "stream",
     "text": [
      "Accuracy: 0.8983253588516746\n",
      "Precision: 0.9015918958031838\n",
      "              precision    recall  f1-score   support\n",
      "\n",
      "           0       0.90      0.90      0.90      2090\n",
      "           1       0.90      0.89      0.90      2090\n",
      "\n",
      "   micro avg       0.90      0.90      0.90      4180\n",
      "   macro avg       0.90      0.90      0.90      4180\n",
      "weighted avg       0.90      0.90      0.90      4180\n",
      "\n",
      "[[1886  204]\n",
      " [ 221 1869]]\n"
     ]
    }
   ],
   "source": [
    "classificar_texto(pipe,df_politica, \"texto preprocessado2\", \"fake\",0)"
   ]
  },
  {
   "cell_type": "code",
   "execution_count": 78,
   "metadata": {},
   "outputs": [
    {
     "name": "stdout",
     "output_type": "stream",
     "text": [
      "Accuracy: 0.8978468899521531\n",
      "Precision: 0.9018849685838569\n",
      "              precision    recall  f1-score   support\n",
      "\n",
      "           0       0.89      0.90      0.90      2090\n",
      "           1       0.90      0.89      0.90      2090\n",
      "\n",
      "   micro avg       0.90      0.90      0.90      4180\n",
      "   macro avg       0.90      0.90      0.90      4180\n",
      "weighted avg       0.90      0.90      0.90      4180\n",
      "\n",
      "[[1887  203]\n",
      " [ 224 1866]]\n"
     ]
    }
   ],
   "source": [
    "regressao_logistica = LogisticRegression(solver = \"lbfgs\")\n",
    "\n",
    "classificar_texto(pipe,df_politica, \"texto preprocessado2\", \"fake\",0)"
   ]
  },
  {
   "cell_type": "code",
   "execution_count": 95,
   "metadata": {},
   "outputs": [
    {
     "name": "stdout",
     "output_type": "stream",
     "text": [
      "0.8361244019138756\n"
     ]
    }
   ],
   "source": [
    "classificar_texto(pipe,df_politica, \"texto preprocessado\", \"fake\",0)"
   ]
  },
  {
   "cell_type": "code",
   "execution_count": null,
   "metadata": {},
   "outputs": [],
   "source": [
    "from sklearn import ensemble\n",
    "gb = ensemble.GradientBoostingClassifier(random_state=0,learning_rate = 0.1,max_depth=5,n_estimators=300)\n",
    "\n",
    "pipe = Pipeline([\n",
    "    ('cv', CountVectorizer()),\n",
    "    ('tfidf', TfidfTransformer()),\n",
    "    ('classificador', gb),\n",
    "    ])\n",
    "\n",
    "classificar_texto(pipe,df_politica, \"texto preprocessado\", \"fake\",0)"
   ]
  },
  {
   "cell_type": "code",
   "execution_count": 80,
   "metadata": {},
   "outputs": [
    {
     "name": "stdout",
     "output_type": "stream",
     "text": [
      "Accuracy: 0.8720095693779905\n",
      "Precision: 0.8686581318160266\n",
      "              precision    recall  f1-score   support\n",
      "\n",
      "           0       0.88      0.87      0.87      2090\n",
      "           1       0.87      0.88      0.87      2090\n",
      "\n",
      "   micro avg       0.87      0.87      0.87      4180\n",
      "   macro avg       0.87      0.87      0.87      4180\n",
      "weighted avg       0.87      0.87      0.87      4180\n",
      "\n",
      "[[1813  277]\n",
      " [ 258 1832]]\n"
     ]
    }
   ],
   "source": [
    "from sklearn import ensemble\n",
    "gb = ensemble.GradientBoostingClassifier(random_state=0,learning_rate = 0.1,max_depth=5,n_estimators=300)\n",
    "\n",
    "pipe = Pipeline([\n",
    "    ('cv', CountVectorizer()),\n",
    "    ('tfidf', TfidfTransformer()),\n",
    "    ('classificador', gb),\n",
    "    ])\n",
    "\n",
    "classificar_texto(pipe,df_politica, \"texto preprocessado2\", \"fake\",0)"
   ]
  },
  {
   "cell_type": "code",
   "execution_count": 84,
   "metadata": {},
   "outputs": [
    {
     "name": "stdout",
     "output_type": "stream",
     "text": [
      "Accuracy: 0.8782296650717704\n",
      "Precision: 0.8816996619990343\n",
      "              precision    recall  f1-score   support\n",
      "\n",
      "           0       0.87      0.88      0.88      2090\n",
      "           1       0.88      0.87      0.88      2090\n",
      "\n",
      "   micro avg       0.88      0.88      0.88      4180\n",
      "   macro avg       0.88      0.88      0.88      4180\n",
      "weighted avg       0.88      0.88      0.88      4180\n",
      "\n",
      "[[1845  245]\n",
      " [ 264 1826]]\n"
     ]
    }
   ],
   "source": [
    "from xgboost import XGBClassifier\n",
    "xbc = XGBClassifier(max_depth=5, n_estimators=300, learning_rate=0.1)\n",
    "\n",
    "pipe = Pipeline([\n",
    "    ('cv', CountVectorizer()),\n",
    "    ('tfidf', TfidfTransformer()),\n",
    "    ('classificador', xbc),\n",
    "    ])\n",
    "\n",
    "classificar_texto(pipe,df_politica, \"texto preprocessado2\", \"fake\",1)\n"
   ]
  },
  {
   "cell_type": "code",
   "execution_count": 92,
   "metadata": {},
   "outputs": [
    {
     "name": "stdout",
     "output_type": "stream",
     "text": [
      "0.8576555023923444\n"
     ]
    }
   ],
   "source": [
    "classificar_texto(gb,countV,df_politica, \"texto preprocessado\", \"fake\",0)"
   ]
  },
  {
   "cell_type": "code",
   "execution_count": null,
   "metadata": {},
   "outputs": [],
   "source": [
    "from sklearn.svm import SVC,LinearSVC\n",
    "#svc = SVC(kernel='poly', degree=4, gamma = 'auto')\n",
    "svc = LinearSVC(random_state=0)\n",
    "\n",
    "\n",
    "pipe = Pipeline([\n",
    "    ('cv', CountVectorizer()),\n",
    "    ('tfidf', TfidfTransformer()),\n",
    "    ('classificador', svc),\n",
    "    ])\n",
    "\n",
    "\n",
    "\n",
    "classificar_texto(pipe,df_politica, \"texto preprocessado2\", \"fake\",0)"
   ]
  },
  {
   "cell_type": "code",
   "execution_count": null,
   "metadata": {},
   "outputs": [],
   "source": [
    "classificar_texto(pipe,df_politica, \"texto preprocessado\", \"fake\",0)"
   ]
  },
  {
   "cell_type": "code",
   "execution_count": 88,
   "metadata": {},
   "outputs": [
    {
     "name": "stdout",
     "output_type": "stream",
     "text": [
      "Accuracy: 0.8849282296650718\n",
      "Precision: 0.8832777513101477\n",
      "              precision    recall  f1-score   support\n",
      "\n",
      "           0       0.89      0.88      0.88      2090\n",
      "           1       0.88      0.89      0.89      2090\n",
      "\n",
      "   micro avg       0.88      0.88      0.88      4180\n",
      "   macro avg       0.88      0.88      0.88      4180\n",
      "weighted avg       0.88      0.88      0.88      4180\n",
      "\n",
      "[[1845  245]\n",
      " [ 236 1854]]\n"
     ]
    }
   ],
   "source": [
    "from xgboost import XGBClassifier\n",
    "xbc = XGBClassifier(max_depth=5, n_estimators=300, learning_rate=0.1)\n",
    "\n",
    "pipe = Pipeline([\n",
    "    ('cv', CountVectorizer()),\n",
    "    ('tfidf', TfidfTransformer()),\n",
    "    ('classificador', xbc),\n",
    "    ])\n",
    "\n",
    "\n",
    "classificar_texto(pipe,df_politica, \"texto preprocessado\", \"fake\",1)"
   ]
  },
  {
   "cell_type": "code",
   "execution_count": null,
   "metadata": {},
   "outputs": [],
   "source": []
  }
 ],
 "metadata": {
  "kernelspec": {
   "display_name": "Python 3",
   "language": "python",
   "name": "python3"
  },
  "language_info": {
   "codemirror_mode": {
    "name": "ipython",
    "version": 3
   },
   "file_extension": ".py",
   "mimetype": "text/x-python",
   "name": "python",
   "nbconvert_exporter": "python",
   "pygments_lexer": "ipython3",
   "version": "3.7.1"
  }
 },
 "nbformat": 4,
 "nbformat_minor": 2
}

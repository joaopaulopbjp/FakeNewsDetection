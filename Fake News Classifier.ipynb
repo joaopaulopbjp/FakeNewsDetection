{
 "cells": [
  {
   "cell_type": "markdown",
   "metadata": {},
   "source": [
    "# Notebook de preparação, treinamento, testes e visualizações\n",
    "# FAKE NEWS DETECTION"
   ]
  },
  {
   "cell_type": "code",
   "execution_count": 2,
   "metadata": {},
   "outputs": [],
   "source": [
    "import pandas as pd"
   ]
  },
  {
   "cell_type": "markdown",
   "metadata": {},
   "source": [
    "### Recuperando os dados a partir do arquivo"
   ]
  },
  {
   "cell_type": "code",
   "execution_count": 3,
   "metadata": {},
   "outputs": [],
   "source": [
    "df_completo = pd.read_csv('fake_news_fakebrcorpus.csv', sep=';', encoding='utf-8')"
   ]
  },
  {
   "cell_type": "markdown",
   "metadata": {},
   "source": [
    "### Obtendo uma amostra dos dados"
   ]
  },
  {
   "cell_type": "code",
   "execution_count": 4,
   "metadata": {},
   "outputs": [
    {
     "data": {
      "text/html": [
       "<div>\n",
       "<style scoped>\n",
       "    .dataframe tbody tr th:only-of-type {\n",
       "        vertical-align: middle;\n",
       "    }\n",
       "\n",
       "    .dataframe tbody tr th {\n",
       "        vertical-align: top;\n",
       "    }\n",
       "\n",
       "    .dataframe thead th {\n",
       "        text-align: right;\n",
       "    }\n",
       "</style>\n",
       "<table border=\"1\" class=\"dataframe\">\n",
       "  <thead>\n",
       "    <tr style=\"text-align: right;\">\n",
       "      <th></th>\n",
       "      <th>Unnamed: 0</th>\n",
       "      <th>texto normalizado</th>\n",
       "      <th>fake</th>\n",
       "      <th>author</th>\n",
       "      <th>link</th>\n",
       "      <th>category</th>\n",
       "      <th>number of tokens</th>\n",
       "      <th>number of types</th>\n",
       "      <th>number of links inside the news</th>\n",
       "      <th>number of verbs</th>\n",
       "      <th>number of subjuntive and imperative verbs</th>\n",
       "      <th>number of nouns</th>\n",
       "      <th>number of adjectives</th>\n",
       "      <th>number of adverbs</th>\n",
       "      <th>number of modal verbs (mainly auxiliary verbs)</th>\n",
       "      <th>number of pronouns</th>\n",
       "      <th>percentage of news with speeling errors</th>\n",
       "      <th>emotiveness</th>\n",
       "      <th>diversity</th>\n",
       "    </tr>\n",
       "  </thead>\n",
       "  <tbody>\n",
       "    <tr>\n",
       "      <th>0</th>\n",
       "      <td>0</td>\n",
       "      <td>O Podemos decidiu  expulsar o deputado federal...</td>\n",
       "      <td>0</td>\n",
       "      <td>Naira Trindade</td>\n",
       "      <td>http://politica.estadao.com.br/blogs/coluna-do...</td>\n",
       "      <td>politica</td>\n",
       "      <td>168</td>\n",
       "      <td>107</td>\n",
       "      <td>None</td>\n",
       "      <td>24</td>\n",
       "      <td>2</td>\n",
       "      <td>43</td>\n",
       "      <td>5</td>\n",
       "      <td>4</td>\n",
       "      <td>3</td>\n",
       "      <td>7</td>\n",
       "      <td>0.000000</td>\n",
       "      <td>0.134328</td>\n",
       "      <td>0.722973</td>\n",
       "    </tr>\n",
       "    <tr>\n",
       "      <th>1</th>\n",
       "      <td>1</td>\n",
       "      <td>Bolsonaro é um liberal completo, diz president...</td>\n",
       "      <td>0</td>\n",
       "      <td>Marco Rodrigo Almeida</td>\n",
       "      <td>http://www1.folha.uol.com.br/poder/2018/01/194...</td>\n",
       "      <td>politica</td>\n",
       "      <td>1028</td>\n",
       "      <td>474</td>\n",
       "      <td>None</td>\n",
       "      <td>135</td>\n",
       "      <td>2</td>\n",
       "      <td>237</td>\n",
       "      <td>56</td>\n",
       "      <td>45</td>\n",
       "      <td>14</td>\n",
       "      <td>63</td>\n",
       "      <td>0.001156</td>\n",
       "      <td>0.271505</td>\n",
       "      <td>0.547977</td>\n",
       "    </tr>\n",
       "    <tr>\n",
       "      <th>2</th>\n",
       "      <td>2</td>\n",
       "      <td>Ministro do STF libera Andrea Neves de prisão ...</td>\n",
       "      <td>0</td>\n",
       "      <td>Fernando Zuba , Pedro Ângelo E Renan Ramalho</td>\n",
       "      <td>https://g1.globo.com/mg/minas-gerais/noticia/s...</td>\n",
       "      <td>politica</td>\n",
       "      <td>540</td>\n",
       "      <td>232</td>\n",
       "      <td>None</td>\n",
       "      <td>69</td>\n",
       "      <td>0</td>\n",
       "      <td>146</td>\n",
       "      <td>10</td>\n",
       "      <td>20</td>\n",
       "      <td>7</td>\n",
       "      <td>19</td>\n",
       "      <td>0.000000</td>\n",
       "      <td>0.139535</td>\n",
       "      <td>0.487395</td>\n",
       "    </tr>\n",
       "  </tbody>\n",
       "</table>\n",
       "</div>"
      ],
      "text/plain": [
       "   Unnamed: 0                                  texto normalizado  fake  \\\n",
       "0           0  O Podemos decidiu  expulsar o deputado federal...     0   \n",
       "1           1  Bolsonaro é um liberal completo, diz president...     0   \n",
       "2           2  Ministro do STF libera Andrea Neves de prisão ...     0   \n",
       "\n",
       "                                         author  \\\n",
       "0                                Naira Trindade   \n",
       "1                         Marco Rodrigo Almeida   \n",
       "2  Fernando Zuba , Pedro Ângelo E Renan Ramalho   \n",
       "\n",
       "                                                link  category  \\\n",
       "0  http://politica.estadao.com.br/blogs/coluna-do...  politica   \n",
       "1  http://www1.folha.uol.com.br/poder/2018/01/194...  politica   \n",
       "2  https://g1.globo.com/mg/minas-gerais/noticia/s...  politica   \n",
       "\n",
       "   number of tokens  number of types number of links inside the news  \\\n",
       "0               168              107                            None   \n",
       "1              1028              474                            None   \n",
       "2               540              232                            None   \n",
       "\n",
       "   number of verbs  number of subjuntive and imperative verbs  \\\n",
       "0               24                                          2   \n",
       "1              135                                          2   \n",
       "2               69                                          0   \n",
       "\n",
       "   number of nouns  number of adjectives  number of adverbs  \\\n",
       "0               43                     5                  4   \n",
       "1              237                    56                 45   \n",
       "2              146                    10                 20   \n",
       "\n",
       "   number of modal verbs (mainly auxiliary verbs)  number of pronouns  \\\n",
       "0                                               3                   7   \n",
       "1                                              14                  63   \n",
       "2                                               7                  19   \n",
       "\n",
       "   percentage of news with speeling errors  emotiveness  diversity  \n",
       "0                                 0.000000     0.134328   0.722973  \n",
       "1                                 0.001156     0.271505   0.547977  \n",
       "2                                 0.000000     0.139535   0.487395  "
      ]
     },
     "execution_count": 4,
     "metadata": {},
     "output_type": "execute_result"
    }
   ],
   "source": [
    "df_completo.head(3)"
   ]
  },
  {
   "cell_type": "markdown",
   "metadata": {},
   "source": [
    "### Obtendo informações sobre os campos, seus tipos e as quantidades de dados"
   ]
  },
  {
   "cell_type": "code",
   "execution_count": 5,
   "metadata": {},
   "outputs": [
    {
     "name": "stdout",
     "output_type": "stream",
     "text": [
      "<class 'pandas.core.frame.DataFrame'>\n",
      "RangeIndex: 7200 entries, 0 to 7199\n",
      "Data columns (total 19 columns):\n",
      "Unnamed: 0                                        7200 non-null int64\n",
      "texto normalizado                                 7200 non-null object\n",
      "fake                                              7200 non-null int64\n",
      "author                                            7174 non-null object\n",
      "link                                              7200 non-null object\n",
      "category                                          7200 non-null object\n",
      "number of tokens                                  7200 non-null int64\n",
      "number of types                                   7200 non-null int64\n",
      "number of links inside the news                   7200 non-null object\n",
      "number of verbs                                   7200 non-null int64\n",
      "number of subjuntive and imperative verbs         7200 non-null int64\n",
      "number of nouns                                   7200 non-null int64\n",
      "number of adjectives                              7200 non-null int64\n",
      "number of adverbs                                 7200 non-null int64\n",
      "number of modal verbs (mainly auxiliary verbs)    7200 non-null int64\n",
      "number of pronouns                                7200 non-null int64\n",
      "percentage of news with speeling errors           7200 non-null float64\n",
      "emotiveness                                       7200 non-null float64\n",
      "diversity                                         7200 non-null float64\n",
      "dtypes: float64(3), int64(11), object(5)\n",
      "memory usage: 1.0+ MB\n"
     ]
    }
   ],
   "source": [
    "df_completo.info()"
   ]
  },
  {
   "cell_type": "markdown",
   "metadata": {},
   "source": [
    "### Obtendo os nomes das colunas"
   ]
  },
  {
   "cell_type": "code",
   "execution_count": 6,
   "metadata": {},
   "outputs": [],
   "source": [
    "features_names = df_completo.columns"
   ]
  },
  {
   "cell_type": "markdown",
   "metadata": {},
   "source": [
    "### Retirando alguns campos para obter as estatísticas dos dados principais"
   ]
  },
  {
   "cell_type": "code",
   "execution_count": 94,
   "metadata": {},
   "outputs": [],
   "source": [
    "features_names_filtrado = [feature_n for feature_n in features_names if feature_n not in ['seq','fake','number of types','Unnamed: 0']]"
   ]
  },
  {
   "cell_type": "code",
   "execution_count": 95,
   "metadata": {},
   "outputs": [],
   "source": [
    "df_completo_filtrado = df_completo[features_names_filtrado]"
   ]
  },
  {
   "cell_type": "markdown",
   "metadata": {},
   "source": [
    "### Obtendo as estatísticas dos dados"
   ]
  },
  {
   "cell_type": "code",
   "execution_count": 96,
   "metadata": {},
   "outputs": [
    {
     "data": {
      "text/html": [
       "<div>\n",
       "<style scoped>\n",
       "    .dataframe tbody tr th:only-of-type {\n",
       "        vertical-align: middle;\n",
       "    }\n",
       "\n",
       "    .dataframe tbody tr th {\n",
       "        vertical-align: top;\n",
       "    }\n",
       "\n",
       "    .dataframe thead th {\n",
       "        text-align: right;\n",
       "    }\n",
       "</style>\n",
       "<table border=\"1\" class=\"dataframe\">\n",
       "  <thead>\n",
       "    <tr style=\"text-align: right;\">\n",
       "      <th></th>\n",
       "      <th>number of tokens</th>\n",
       "      <th>number of verbs</th>\n",
       "      <th>number of subjuntive and imperative verbs</th>\n",
       "      <th>number of nouns</th>\n",
       "      <th>number of adjectives</th>\n",
       "      <th>number of adverbs</th>\n",
       "      <th>number of modal verbs (mainly auxiliary verbs)</th>\n",
       "      <th>number of pronouns</th>\n",
       "      <th>percentage of news with speeling errors</th>\n",
       "      <th>emotiveness</th>\n",
       "      <th>diversity</th>\n",
       "    </tr>\n",
       "  </thead>\n",
       "  <tbody>\n",
       "    <tr>\n",
       "      <th>count</th>\n",
       "      <td>7200.000000</td>\n",
       "      <td>7200.00000</td>\n",
       "      <td>7200.000000</td>\n",
       "      <td>7200.000000</td>\n",
       "      <td>7200.000000</td>\n",
       "      <td>7200.000000</td>\n",
       "      <td>7200.000000</td>\n",
       "      <td>7200.000000</td>\n",
       "      <td>7200.000000</td>\n",
       "      <td>7200.000000</td>\n",
       "      <td>7200.000000</td>\n",
       "    </tr>\n",
       "    <tr>\n",
       "      <th>mean</th>\n",
       "      <td>742.763333</td>\n",
       "      <td>100.76750</td>\n",
       "      <td>4.063194</td>\n",
       "      <td>182.920278</td>\n",
       "      <td>33.154444</td>\n",
       "      <td>30.014444</td>\n",
       "      <td>13.869028</td>\n",
       "      <td>38.758056</td>\n",
       "      <td>0.003065</td>\n",
       "      <td>0.209758</td>\n",
       "      <td>0.577903</td>\n",
       "    </tr>\n",
       "    <tr>\n",
       "      <th>std</th>\n",
       "      <td>774.155454</td>\n",
       "      <td>108.03151</td>\n",
       "      <td>5.492677</td>\n",
       "      <td>186.507322</td>\n",
       "      <td>39.702327</td>\n",
       "      <td>37.742105</td>\n",
       "      <td>15.303212</td>\n",
       "      <td>51.759915</td>\n",
       "      <td>0.007780</td>\n",
       "      <td>0.070239</td>\n",
       "      <td>0.126475</td>\n",
       "    </tr>\n",
       "    <tr>\n",
       "      <th>min</th>\n",
       "      <td>11.000000</td>\n",
       "      <td>1.00000</td>\n",
       "      <td>0.000000</td>\n",
       "      <td>3.000000</td>\n",
       "      <td>0.000000</td>\n",
       "      <td>0.000000</td>\n",
       "      <td>0.000000</td>\n",
       "      <td>0.000000</td>\n",
       "      <td>0.000000</td>\n",
       "      <td>0.000000</td>\n",
       "      <td>0.232210</td>\n",
       "    </tr>\n",
       "    <tr>\n",
       "      <th>25%</th>\n",
       "      <td>183.000000</td>\n",
       "      <td>26.00000</td>\n",
       "      <td>1.000000</td>\n",
       "      <td>46.000000</td>\n",
       "      <td>7.000000</td>\n",
       "      <td>7.000000</td>\n",
       "      <td>3.000000</td>\n",
       "      <td>8.000000</td>\n",
       "      <td>0.000000</td>\n",
       "      <td>0.162500</td>\n",
       "      <td>0.471088</td>\n",
       "    </tr>\n",
       "    <tr>\n",
       "      <th>50%</th>\n",
       "      <td>416.000000</td>\n",
       "      <td>57.00000</td>\n",
       "      <td>2.000000</td>\n",
       "      <td>106.000000</td>\n",
       "      <td>18.000000</td>\n",
       "      <td>15.000000</td>\n",
       "      <td>8.000000</td>\n",
       "      <td>19.000000</td>\n",
       "      <td>0.000579</td>\n",
       "      <td>0.204082</td>\n",
       "      <td>0.577402</td>\n",
       "    </tr>\n",
       "    <tr>\n",
       "      <th>75%</th>\n",
       "      <td>1064.250000</td>\n",
       "      <td>141.00000</td>\n",
       "      <td>5.000000</td>\n",
       "      <td>265.000000</td>\n",
       "      <td>45.000000</td>\n",
       "      <td>39.000000</td>\n",
       "      <td>19.000000</td>\n",
       "      <td>49.000000</td>\n",
       "      <td>0.003799</td>\n",
       "      <td>0.251055</td>\n",
       "      <td>0.676276</td>\n",
       "    </tr>\n",
       "    <tr>\n",
       "      <th>max</th>\n",
       "      <td>8634.000000</td>\n",
       "      <td>1148.00000</td>\n",
       "      <td>65.000000</td>\n",
       "      <td>2170.000000</td>\n",
       "      <td>532.000000</td>\n",
       "      <td>497.000000</td>\n",
       "      <td>181.000000</td>\n",
       "      <td>720.000000</td>\n",
       "      <td>0.382353</td>\n",
       "      <td>0.750000</td>\n",
       "      <td>1.000000</td>\n",
       "    </tr>\n",
       "  </tbody>\n",
       "</table>\n",
       "</div>"
      ],
      "text/plain": [
       "       number of tokens  number of verbs  \\\n",
       "count       7200.000000       7200.00000   \n",
       "mean         742.763333        100.76750   \n",
       "std          774.155454        108.03151   \n",
       "min           11.000000          1.00000   \n",
       "25%          183.000000         26.00000   \n",
       "50%          416.000000         57.00000   \n",
       "75%         1064.250000        141.00000   \n",
       "max         8634.000000       1148.00000   \n",
       "\n",
       "       number of subjuntive and imperative verbs  number of nouns  \\\n",
       "count                                7200.000000      7200.000000   \n",
       "mean                                    4.063194       182.920278   \n",
       "std                                     5.492677       186.507322   \n",
       "min                                     0.000000         3.000000   \n",
       "25%                                     1.000000        46.000000   \n",
       "50%                                     2.000000       106.000000   \n",
       "75%                                     5.000000       265.000000   \n",
       "max                                    65.000000      2170.000000   \n",
       "\n",
       "       number of adjectives  number of adverbs  \\\n",
       "count           7200.000000        7200.000000   \n",
       "mean              33.154444          30.014444   \n",
       "std               39.702327          37.742105   \n",
       "min                0.000000           0.000000   \n",
       "25%                7.000000           7.000000   \n",
       "50%               18.000000          15.000000   \n",
       "75%               45.000000          39.000000   \n",
       "max              532.000000         497.000000   \n",
       "\n",
       "       number of modal verbs (mainly auxiliary verbs)  number of pronouns  \\\n",
       "count                                     7200.000000         7200.000000   \n",
       "mean                                        13.869028           38.758056   \n",
       "std                                         15.303212           51.759915   \n",
       "min                                          0.000000            0.000000   \n",
       "25%                                          3.000000            8.000000   \n",
       "50%                                          8.000000           19.000000   \n",
       "75%                                         19.000000           49.000000   \n",
       "max                                        181.000000          720.000000   \n",
       "\n",
       "       percentage of news with speeling errors  emotiveness    diversity  \n",
       "count                              7200.000000  7200.000000  7200.000000  \n",
       "mean                                  0.003065     0.209758     0.577903  \n",
       "std                                   0.007780     0.070239     0.126475  \n",
       "min                                   0.000000     0.000000     0.232210  \n",
       "25%                                   0.000000     0.162500     0.471088  \n",
       "50%                                   0.000579     0.204082     0.577402  \n",
       "75%                                   0.003799     0.251055     0.676276  \n",
       "max                                   0.382353     0.750000     1.000000  "
      ]
     },
     "execution_count": 96,
     "metadata": {},
     "output_type": "execute_result"
    }
   ],
   "source": [
    "df_completo_filtrado.describe()"
   ]
  },
  {
   "cell_type": "markdown",
   "metadata": {},
   "source": [
    "### Filtrando apenas os dados da categoria política para testes"
   ]
  },
  {
   "cell_type": "code",
   "execution_count": 10,
   "metadata": {},
   "outputs": [],
   "source": [
    "df_politica = df_completo.loc[df_completo['category']=='politica']"
   ]
  },
  {
   "cell_type": "code",
   "execution_count": 11,
   "metadata": {},
   "outputs": [
    {
     "data": {
      "text/plain": [
       "(4180, 19)"
      ]
     },
     "execution_count": 11,
     "metadata": {},
     "output_type": "execute_result"
    }
   ],
   "source": [
    "df_politica.shape"
   ]
  },
  {
   "cell_type": "code",
   "execution_count": 12,
   "metadata": {},
   "outputs": [],
   "source": [
    "import seaborn as sns"
   ]
  },
  {
   "cell_type": "markdown",
   "metadata": {},
   "source": [
    "## Criação de funções para ajudar na análise e no pré-processamento"
   ]
  },
  {
   "cell_type": "markdown",
   "metadata": {},
   "source": [
    "### Classes para selecionar as colunas tipo texto e numérico para usar no pipeline"
   ]
  },
  {
   "cell_type": "code",
   "execution_count": 13,
   "metadata": {},
   "outputs": [],
   "source": [
    "from sklearn.base import BaseEstimator, TransformerMixin\n",
    "\n",
    "class TextSelector(BaseEstimator, TransformerMixin):\n",
    "    \"\"\"\n",
    "    Seleciona uma única coluna do dataframe para realizar transformações adicionais\n",
    "    Usar em colunas de texto\n",
    "    \"\"\"\n",
    "    def __init__(self, key):\n",
    "        self.key = key\n",
    "\n",
    "    def fit(self, X, y=None):\n",
    "        return self\n",
    "\n",
    "    def transform(self, X):\n",
    "        return X[self.key]\n",
    "    \n",
    "class NumberSelector(BaseEstimator, TransformerMixin):\n",
    "    \"\"\"\n",
    "    Seleciona uma única coluna do dataframe para realizar transformações adicionais\n",
    "    Usar em colunas numéricas\n",
    "    \"\"\"\n",
    "    def __init__(self, key):\n",
    "        self.key = key\n",
    "\n",
    "    def fit(self, X, y=None):\n",
    "        return self\n",
    "\n",
    "    def transform(self, X):\n",
    "        return X[[self.key]]"
   ]
  },
  {
   "cell_type": "markdown",
   "metadata": {},
   "source": [
    "### Função para realizar o cross validation k-fold, treina o modelo e exibe as métricas"
   ]
  },
  {
   "cell_type": "code",
   "execution_count": 14,
   "metadata": {},
   "outputs": [],
   "source": [
    "import numpy as np\n",
    "from sklearn.feature_extraction.text import CountVectorizer\n",
    "from sklearn.feature_extraction.text import TfidfVectorizer,TfidfTransformer\n",
    "from sklearn.model_selection import StratifiedKFold\n",
    "from sklearn.metrics import accuracy_score, precision_score, classification_report, confusion_matrix\n",
    "from sklearn.pipeline import Pipeline\n",
    "\n",
    "def classificar_texto(pipe, X_treino, y_treino,isXGB):\n",
    "    \n",
    "    kf = StratifiedKFold(n_splits=5,shuffle=True,random_state = 42)\n",
    "    all_classes_tests = []\n",
    "    all_predictions = []\n",
    "    \n",
    "    for train_index, test_index in kf.split(X_treino, y_treino):\n",
    "        treino_kf = X_treino.iloc[train_index]\n",
    "        classe_treino_kf = y_treino.iloc[train_index]\n",
    "        teste_kf = X_treino.iloc[test_index]\n",
    "        classe_teste_kf = y_treino.iloc[test_index]\n",
    "    \n",
    "        y_pred = []\n",
    "        predictions = []\n",
    "    \n",
    "        if(isXGB == 1):\n",
    "            pipe.fit(treino_kf, classe_treino_kf)\n",
    "            y_pred = pipe.predict(teste_kf)\n",
    "            predictions = [round(value) for value in y_pred]\n",
    "        else: \n",
    "            pipe.fit(treino_kf, classe_treino_kf)\n",
    "            predictions = pipe.predict(teste_kf)\n",
    "        \n",
    "        for predict in predictions:\n",
    "            all_predictions.append(predict)\n",
    "            \n",
    "        for clas_teste in classe_teste_kf:\n",
    "            all_classes_tests.append(clas_teste)\n",
    "\n",
    "    # evaluate predictions\n",
    "    print (\"Accuracy:\", accuracy_score(all_classes_tests, all_predictions))\n",
    "    print (\"Precision:\", precision_score(all_classes_tests, all_predictions))\n",
    "    print (classification_report(all_classes_tests, all_predictions))\n",
    "    print (confusion_matrix(all_classes_tests, all_predictions))\n",
    "    \n",
    "    "
   ]
  },
  {
   "cell_type": "markdown",
   "metadata": {},
   "source": [
    "### Função para exibir um gráfico de pareto contendo as palavras com maior frequência"
   ]
  },
  {
   "cell_type": "code",
   "execution_count": 16,
   "metadata": {},
   "outputs": [],
   "source": [
    "import nltk\n",
    "from nltk import tokenize\n",
    "import matplotlib.pyplot as plt\n",
    "import seaborn as sns\n",
    "\n",
    "def pareto(texto, coluna_texto, quantidade):\n",
    "\n",
    "    token_espaco = tokenize.WhitespaceTokenizer()\n",
    "    todas_palavras = ' '.join([texto for texto in texto[coluna_texto]])\n",
    "    token_frase = token_espaco.tokenize(todas_palavras)\n",
    "    frequencia = nltk.FreqDist(token_frase)\n",
    "    df_frequencia = pd.DataFrame({\"Palavra\": list(frequencia.keys()),\n",
    "                                   \"Frequência\": list(frequencia.values())})\n",
    "    df_frequencia = df_frequencia.nlargest(columns = \"Frequência\", n = quantidade)\n",
    "    plt.figure(figsize=(12,8))\n",
    "    ax = sns.barplot(data = df_frequencia, x = \"Palavra\", y = \"Frequência\", color = 'gray')\n",
    "    ax.set(ylabel = \"Contagem\")\n",
    "    plt.show()    "
   ]
  },
  {
   "cell_type": "markdown",
   "metadata": {},
   "source": [
    "### Download das bibliotecas do nltk - stopwords e stemmer"
   ]
  },
  {
   "cell_type": "code",
   "execution_count": 18,
   "metadata": {},
   "outputs": [
    {
     "name": "stderr",
     "output_type": "stream",
     "text": [
      "[nltk_data] Downloading package stopwords to\n",
      "[nltk_data]     C:\\Users\\jp\\AppData\\Roaming\\nltk_data...\n",
      "[nltk_data]   Package stopwords is already up-to-date!\n",
      "[nltk_data] Downloading package rslp to\n",
      "[nltk_data]     C:\\Users\\jp\\AppData\\Roaming\\nltk_data...\n",
      "[nltk_data]   Package rslp is already up-to-date!\n"
     ]
    }
   ],
   "source": [
    "import nltk\n",
    "nltk.download('stopwords')\n",
    "nltk.download('rslp')\n",
    "from nltk.stem import SnowballStemmer"
   ]
  },
  {
   "cell_type": "markdown",
   "metadata": {},
   "source": [
    "### Função que realiza pré-processamento no texto - com stopwords da coleção nltk"
   ]
  },
  {
   "cell_type": "code",
   "execution_count": 19,
   "metadata": {},
   "outputs": [],
   "source": [
    "from nltk import tokenize\n",
    "import seaborn as sns\n",
    "import matplotlib.pyplot as plt\n",
    "from string import punctuation\n",
    "import unidecode\n",
    "import re\n",
    "\n",
    "\n",
    "def limpeza(texto,coluna):\n",
    "    stop_words_pt = nltk.corpus.stopwords.words(\"portuguese\")\n",
    "    stemmer = SnowballStemmer(\"portuguese\")\n",
    "    #stemmer = nltk.RSLPStemmer()\n",
    "    \n",
    "    \n",
    "    token = tokenize.WordPunctTokenizer()\n",
    "\n",
    "    pontuacao = list()\n",
    "    for ponto in punctuation:\n",
    "        pontuacao.append(ponto)\n",
    "\n",
    "    pontuacao_stopwords = pontuacao + stop_words_pt\n",
    "    stopwords_sem_acento = [unidecode.unidecode(texto) for texto in pontuacao_stopwords]\n",
    "\n",
    "    #Transformando para minusculo, removendo stop words e pontuacao e realizando stemetização    \n",
    "    \n",
    "    frase_processada = list()\n",
    "    for frase in texto[coluna]:\n",
    "        nova_frase = list()\n",
    "        ## Tokenizar\n",
    "        palavras_texto = token.tokenize(frase.lower())\n",
    "        for palavra in palavras_texto:\n",
    "            ## Retirar números\n",
    "            palavra_sem_numero = re.sub('[0-9]', '' , palavra)\n",
    "            ## Retirar acentuação\n",
    "            palavra_sem_acento = unidecode.unidecode(palavra_sem_numero)\n",
    "            ## Retirar stop words\n",
    "            if ((len(palavra_sem_acento) > 0) and (palavra_sem_acento not in stopwords_sem_acento) and palavra_sem_acento.isalpha()):\n",
    "                ## Stemização - Obtenção do radical\n",
    "                palavra_stem = stemmer.stem(palavra_sem_acento)\n",
    "                ## Retirar as palavras com apenas 1 caracter\n",
    "                if(len(palavra_stem) > 1):\n",
    "                    nova_frase.append(palavra_stem)\n",
    "        frase_processada.append(' '.join(nova_frase))\n",
    "    \n",
    "    return frase_processada"
   ]
  },
  {
   "cell_type": "markdown",
   "metadata": {},
   "source": [
    "### Função que realiza pré-processamento no texto - com stopwords da coleção própria"
   ]
  },
  {
   "cell_type": "code",
   "execution_count": 20,
   "metadata": {},
   "outputs": [],
   "source": [
    "import string\n",
    "def limpeza2(texto,coluna):\n",
    "    with open('var/stopwords.txt') as f:\n",
    "        cachedStopWords = f.read()\n",
    "        stemmer = nltk.stem.SnowballStemmer('portuguese')\n",
    "        translator = str.maketrans({key:' ' for key in string.punctuation})\n",
    "    frase_processada = list()\n",
    "    for frase in texto[coluna]:\n",
    "        result = ''\n",
    "        ## Retirar pontuação, os números e transformar em minúscula\n",
    "        result = re.sub('[0-9]', '' , frase.translate(translator)).lower()\n",
    "        ## Retirar os stop words e realiza stemização ou obteção do radical\n",
    "        result = ' '.join([stemmer.stem(word) for word in result.split() if word not in cachedStopWords])\n",
    "        frase_processada.append(''.join(result))\n",
    "    return frase_processada"
   ]
  },
  {
   "cell_type": "markdown",
   "metadata": {},
   "source": [
    "## Pré-Processamento"
   ]
  },
  {
   "cell_type": "markdown",
   "metadata": {},
   "source": [
    "### Realiza pré-processamento nos textos do dataframe de política"
   ]
  },
  {
   "cell_type": "code",
   "execution_count": 21,
   "metadata": {
    "scrolled": true
   },
   "outputs": [
    {
     "name": "stderr",
     "output_type": "stream",
     "text": [
      "C:\\ProgramData\\Anaconda3\\lib\\site-packages\\ipykernel_launcher.py:1: SettingWithCopyWarning: \n",
      "A value is trying to be set on a copy of a slice from a DataFrame.\n",
      "Try using .loc[row_indexer,col_indexer] = value instead\n",
      "\n",
      "See the caveats in the documentation: http://pandas.pydata.org/pandas-docs/stable/indexing.html#indexing-view-versus-copy\n",
      "  \"\"\"Entry point for launching an IPython kernel.\n"
     ]
    }
   ],
   "source": [
    "df_politica['texto preprocessado2'] = limpeza2(df_politica,\"texto normalizado\")"
   ]
  },
  {
   "cell_type": "markdown",
   "metadata": {},
   "source": [
    "### Realiza pré-processamento nos textos do dataframe completo"
   ]
  },
  {
   "cell_type": "code",
   "execution_count": 23,
   "metadata": {},
   "outputs": [],
   "source": [
    "df_completo['texto preprocessado2'] = limpeza2(df_completo,\"texto normalizado\")"
   ]
  },
  {
   "cell_type": "code",
   "execution_count": 24,
   "metadata": {},
   "outputs": [
    {
     "data": {
      "text/html": [
       "<div>\n",
       "<style scoped>\n",
       "    .dataframe tbody tr th:only-of-type {\n",
       "        vertical-align: middle;\n",
       "    }\n",
       "\n",
       "    .dataframe tbody tr th {\n",
       "        vertical-align: top;\n",
       "    }\n",
       "\n",
       "    .dataframe thead th {\n",
       "        text-align: right;\n",
       "    }\n",
       "</style>\n",
       "<table border=\"1\" class=\"dataframe\">\n",
       "  <thead>\n",
       "    <tr style=\"text-align: right;\">\n",
       "      <th></th>\n",
       "      <th>Unnamed: 0</th>\n",
       "      <th>texto normalizado</th>\n",
       "      <th>fake</th>\n",
       "      <th>author</th>\n",
       "      <th>link</th>\n",
       "      <th>category</th>\n",
       "      <th>number of tokens</th>\n",
       "      <th>number of types</th>\n",
       "      <th>number of links inside the news</th>\n",
       "      <th>number of verbs</th>\n",
       "      <th>number of subjuntive and imperative verbs</th>\n",
       "      <th>number of nouns</th>\n",
       "      <th>number of adjectives</th>\n",
       "      <th>number of adverbs</th>\n",
       "      <th>number of modal verbs (mainly auxiliary verbs)</th>\n",
       "      <th>number of pronouns</th>\n",
       "      <th>percentage of news with speeling errors</th>\n",
       "      <th>emotiveness</th>\n",
       "      <th>diversity</th>\n",
       "      <th>texto preprocessado2</th>\n",
       "    </tr>\n",
       "  </thead>\n",
       "  <tbody>\n",
       "    <tr>\n",
       "      <th>0</th>\n",
       "      <td>0</td>\n",
       "      <td>O Podemos decidiu  expulsar o deputado federal...</td>\n",
       "      <td>0</td>\n",
       "      <td>Naira Trindade</td>\n",
       "      <td>http://politica.estadao.com.br/blogs/coluna-do...</td>\n",
       "      <td>politica</td>\n",
       "      <td>168</td>\n",
       "      <td>107</td>\n",
       "      <td>None</td>\n",
       "      <td>24</td>\n",
       "      <td>2</td>\n",
       "      <td>43</td>\n",
       "      <td>5</td>\n",
       "      <td>4</td>\n",
       "      <td>3</td>\n",
       "      <td>7</td>\n",
       "      <td>0.000000</td>\n",
       "      <td>0.134328</td>\n",
       "      <td>0.722973</td>\n",
       "      <td>pod decid expuls deput federal carl gaguim par...</td>\n",
       "    </tr>\n",
       "    <tr>\n",
       "      <th>1</th>\n",
       "      <td>1</td>\n",
       "      <td>Bolsonaro é um liberal completo, diz president...</td>\n",
       "      <td>0</td>\n",
       "      <td>Marco Rodrigo Almeida</td>\n",
       "      <td>http://www1.folha.uol.com.br/poder/2018/01/194...</td>\n",
       "      <td>politica</td>\n",
       "      <td>1028</td>\n",
       "      <td>474</td>\n",
       "      <td>None</td>\n",
       "      <td>135</td>\n",
       "      <td>2</td>\n",
       "      <td>237</td>\n",
       "      <td>56</td>\n",
       "      <td>45</td>\n",
       "      <td>14</td>\n",
       "      <td>63</td>\n",
       "      <td>0.001156</td>\n",
       "      <td>0.271505</td>\n",
       "      <td>0.547977</td>\n",
       "      <td>bolsonar é liberal complet diz president psl p...</td>\n",
       "    </tr>\n",
       "    <tr>\n",
       "      <th>2</th>\n",
       "      <td>2</td>\n",
       "      <td>Ministro do STF libera Andrea Neves de prisão ...</td>\n",
       "      <td>0</td>\n",
       "      <td>Fernando Zuba , Pedro Ângelo E Renan Ramalho</td>\n",
       "      <td>https://g1.globo.com/mg/minas-gerais/noticia/s...</td>\n",
       "      <td>politica</td>\n",
       "      <td>540</td>\n",
       "      <td>232</td>\n",
       "      <td>None</td>\n",
       "      <td>69</td>\n",
       "      <td>0</td>\n",
       "      <td>146</td>\n",
       "      <td>10</td>\n",
       "      <td>20</td>\n",
       "      <td>7</td>\n",
       "      <td>19</td>\n",
       "      <td>0.000000</td>\n",
       "      <td>0.139535</td>\n",
       "      <td>0.487395</td>\n",
       "      <td>ministr stf lib andre nev prisã domicili decis...</td>\n",
       "    </tr>\n",
       "    <tr>\n",
       "      <th>3</th>\n",
       "      <td>3</td>\n",
       "      <td>Apesar da abundância, cresce preocupação com p...</td>\n",
       "      <td>0</td>\n",
       "      <td>Por Anderson Viegas, G1 MS</td>\n",
       "      <td>https://g1.globo.com/mato-grosso-do-sul/notici...</td>\n",
       "      <td>politica</td>\n",
       "      <td>8634</td>\n",
       "      <td>2199</td>\n",
       "      <td>0</td>\n",
       "      <td>1053</td>\n",
       "      <td>29</td>\n",
       "      <td>2170</td>\n",
       "      <td>443</td>\n",
       "      <td>278</td>\n",
       "      <td>174</td>\n",
       "      <td>384</td>\n",
       "      <td>0.002504</td>\n",
       "      <td>0.223705</td>\n",
       "      <td>0.289800</td>\n",
       "      <td>apes abund cresc preocup preserv font uso raci...</td>\n",
       "    </tr>\n",
       "    <tr>\n",
       "      <th>4</th>\n",
       "      <td>4</td>\n",
       "      <td>Por que Harvard e MIT levarão Dilma, Moro e Su...</td>\n",
       "      <td>0</td>\n",
       "      <td>Por BBC</td>\n",
       "      <td>https://g1.globo.com/educacao/noticia/por-que-...</td>\n",
       "      <td>politica</td>\n",
       "      <td>955</td>\n",
       "      <td>452</td>\n",
       "      <td>0</td>\n",
       "      <td>96</td>\n",
       "      <td>1</td>\n",
       "      <td>262</td>\n",
       "      <td>36</td>\n",
       "      <td>50</td>\n",
       "      <td>8</td>\n",
       "      <td>33</td>\n",
       "      <td>0.000000</td>\n",
       "      <td>0.240223</td>\n",
       "      <td>0.549210</td>\n",
       "      <td>harvard mit lev dilm mor suplicy eua megaconfe...</td>\n",
       "    </tr>\n",
       "  </tbody>\n",
       "</table>\n",
       "</div>"
      ],
      "text/plain": [
       "   Unnamed: 0                                  texto normalizado  fake  \\\n",
       "0           0  O Podemos decidiu  expulsar o deputado federal...     0   \n",
       "1           1  Bolsonaro é um liberal completo, diz president...     0   \n",
       "2           2  Ministro do STF libera Andrea Neves de prisão ...     0   \n",
       "3           3  Apesar da abundância, cresce preocupação com p...     0   \n",
       "4           4  Por que Harvard e MIT levarão Dilma, Moro e Su...     0   \n",
       "\n",
       "                                         author  \\\n",
       "0                                Naira Trindade   \n",
       "1                         Marco Rodrigo Almeida   \n",
       "2  Fernando Zuba , Pedro Ângelo E Renan Ramalho   \n",
       "3                    Por Anderson Viegas, G1 MS   \n",
       "4                                       Por BBC   \n",
       "\n",
       "                                                link  category  \\\n",
       "0  http://politica.estadao.com.br/blogs/coluna-do...  politica   \n",
       "1  http://www1.folha.uol.com.br/poder/2018/01/194...  politica   \n",
       "2  https://g1.globo.com/mg/minas-gerais/noticia/s...  politica   \n",
       "3  https://g1.globo.com/mato-grosso-do-sul/notici...  politica   \n",
       "4  https://g1.globo.com/educacao/noticia/por-que-...  politica   \n",
       "\n",
       "   number of tokens  number of types number of links inside the news  \\\n",
       "0               168              107                            None   \n",
       "1              1028              474                            None   \n",
       "2               540              232                            None   \n",
       "3              8634             2199                               0   \n",
       "4               955              452                               0   \n",
       "\n",
       "   number of verbs  number of subjuntive and imperative verbs  \\\n",
       "0               24                                          2   \n",
       "1              135                                          2   \n",
       "2               69                                          0   \n",
       "3             1053                                         29   \n",
       "4               96                                          1   \n",
       "\n",
       "   number of nouns  number of adjectives  number of adverbs  \\\n",
       "0               43                     5                  4   \n",
       "1              237                    56                 45   \n",
       "2              146                    10                 20   \n",
       "3             2170                   443                278   \n",
       "4              262                    36                 50   \n",
       "\n",
       "   number of modal verbs (mainly auxiliary verbs)  number of pronouns  \\\n",
       "0                                               3                   7   \n",
       "1                                              14                  63   \n",
       "2                                               7                  19   \n",
       "3                                             174                 384   \n",
       "4                                               8                  33   \n",
       "\n",
       "   percentage of news with speeling errors  emotiveness  diversity  \\\n",
       "0                                 0.000000     0.134328   0.722973   \n",
       "1                                 0.001156     0.271505   0.547977   \n",
       "2                                 0.000000     0.139535   0.487395   \n",
       "3                                 0.002504     0.223705   0.289800   \n",
       "4                                 0.000000     0.240223   0.549210   \n",
       "\n",
       "                                texto preprocessado2  \n",
       "0  pod decid expuls deput federal carl gaguim par...  \n",
       "1  bolsonar é liberal complet diz president psl p...  \n",
       "2  ministr stf lib andre nev prisã domicili decis...  \n",
       "3  apes abund cresc preocup preserv font uso raci...  \n",
       "4  harvard mit lev dilm mor suplicy eua megaconfe...  "
      ]
     },
     "execution_count": 24,
     "metadata": {},
     "output_type": "execute_result"
    }
   ],
   "source": [
    "df_completo.head()"
   ]
  },
  {
   "cell_type": "markdown",
   "metadata": {},
   "source": [
    "## Análise Exploratória dos Dados - EDA"
   ]
  },
  {
   "cell_type": "markdown",
   "metadata": {},
   "source": [
    "### Análise do campo number of tokens entre as notícias fake e reais"
   ]
  },
  {
   "cell_type": "code",
   "execution_count": 28,
   "metadata": {},
   "outputs": [
    {
     "data": {
      "text/plain": [
       "<matplotlib.axes._subplots.AxesSubplot at 0x218090ad668>"
      ]
     },
     "execution_count": 28,
     "metadata": {},
     "output_type": "execute_result"
    },
    {
     "data": {
      "image/png": "[encoded data removed]",
      "text/plain": [
       "<Figure size 432x288 with 1 Axes>"
      ]
     },
     "metadata": {
      "needs_background": "light"
     },
     "output_type": "display_data"
    }
   ],
   "source": [
    "sns.boxplot(x=\"fake\", y=\"number of tokens\", data=df_completo,palette='rainbow')"
   ]
  },
  {
   "cell_type": "markdown",
   "metadata": {},
   "source": [
    "### Análise das palavras mais frequentes do texto bruto normalizado"
   ]
  },
  {
   "cell_type": "code",
   "execution_count": 17,
   "metadata": {},
   "outputs": [
    {
     "data": {
      "image/png": "[encoded data removed]",
      "text/plain": [
       "<Figure size 864x576 with 1 Axes>"
      ]
     },
     "metadata": {
      "needs_background": "light"
     },
     "output_type": "display_data"
    }
   ],
   "source": [
    "pareto(df_completo, \"texto normalizado\", 15)"
   ]
  },
  {
   "cell_type": "markdown",
   "metadata": {},
   "source": [
    "### Análise do campo Emotiveness"
   ]
  },
  {
   "cell_type": "code",
   "execution_count": 30,
   "metadata": {},
   "outputs": [
    {
     "data": {
      "text/plain": [
       "<matplotlib.axes._subplots.AxesSubplot at 0x1b037d94860>"
      ]
     },
     "execution_count": 30,
     "metadata": {},
     "output_type": "execute_result"
    },
    {
     "data": {
      "image/png": "[encoded data removed]",
      "text/plain": [
       "<Figure size 432x288 with 1 Axes>"
      ]
     },
     "metadata": {
      "needs_background": "light"
     },
     "output_type": "display_data"
    }
   ],
   "source": [
    "sns.boxplot(x=\"fake\", y=\"emotiveness\", data=df_completo,palette='rainbow')"
   ]
  },
  {
   "cell_type": "markdown",
   "metadata": {},
   "source": [
    "### Análise do gráfico de pareto com a frequência dos tokens no texto pré-processado"
   ]
  },
  {
   "cell_type": "code",
   "execution_count": 31,
   "metadata": {
    "scrolled": true
   },
   "outputs": [
    {
     "data": {
      "image/png": "[encoded data removed]",
      "text/plain": [
       "<Figure size 864x576 with 1 Axes>"
      ]
     },
     "metadata": {
      "needs_background": "light"
     },
     "output_type": "display_data"
    }
   ],
   "source": [
    "pareto(df_completo, \"texto preprocessado2\", 15)"
   ]
  },
  {
   "cell_type": "markdown",
   "metadata": {},
   "source": [
    "## Feature engineering"
   ]
  },
  {
   "cell_type": "markdown",
   "metadata": {},
   "source": [
    "### Criar campo ou feature com o número de tokens/palavras"
   ]
  },
  {
   "cell_type": "code",
   "execution_count": 68,
   "metadata": {},
   "outputs": [],
   "source": [
    "df_completo['words'] = df_completo['texto normalizado'].apply(lambda x: len(x.split(' ')))"
   ]
  },
  {
   "cell_type": "markdown",
   "metadata": {},
   "source": [
    "### Análise do novo campo - words"
   ]
  },
  {
   "cell_type": "code",
   "execution_count": 26,
   "metadata": {},
   "outputs": [
    {
     "data": {
      "text/plain": [
       "<matplotlib.axes._subplots.AxesSubplot at 0x1b038da1710>"
      ]
     },
     "execution_count": 26,
     "metadata": {},
     "output_type": "execute_result"
    },
    {
     "data": {
      "image/png": "[encoded data removed]",
      "text/plain": [
       "<Figure size 432x288 with 1 Axes>"
      ]
     },
     "metadata": {
      "needs_background": "light"
     },
     "output_type": "display_data"
    }
   ],
   "source": [
    "sns.boxplot(x=\"fake\", y=\"words\", data=df_completo,palette='rainbow')"
   ]
  },
  {
   "cell_type": "markdown",
   "metadata": {},
   "source": [
    "### Criar campo ou feature com tamanho das sentenças"
   ]
  },
  {
   "cell_type": "code",
   "execution_count": 69,
   "metadata": {},
   "outputs": [],
   "source": [
    "df_completo['length'] = df_completo['texto normalizado'].apply(lambda x: len(x))"
   ]
  },
  {
   "cell_type": "markdown",
   "metadata": {},
   "source": [
    "### Análise do novo campo - length"
   ]
  },
  {
   "cell_type": "code",
   "execution_count": 29,
   "metadata": {},
   "outputs": [
    {
     "data": {
      "text/plain": [
       "<matplotlib.axes._subplots.AxesSubplot at 0x1b038d967b8>"
      ]
     },
     "execution_count": 29,
     "metadata": {},
     "output_type": "execute_result"
    },
    {
     "data": {
      "image/png": "[encoded data removed]",
      "text/plain": [
       "<Figure size 432x288 with 1 Axes>"
      ]
     },
     "metadata": {
      "needs_background": "light"
     },
     "output_type": "display_data"
    }
   ],
   "source": [
    "sns.boxplot(x=\"fake\", y=\"length\", data=df_completo,palette='rainbow')"
   ]
  },
  {
   "cell_type": "markdown",
   "metadata": {},
   "source": [
    "## Pipeline de treinamento e avaliação das combinações"
   ]
  },
  {
   "cell_type": "code",
   "execution_count": 78,
   "metadata": {},
   "outputs": [],
   "source": [
    "features= ['texto preprocessado2','emotiveness','words','length','number of tokens']"
   ]
  },
  {
   "cell_type": "code",
   "execution_count": 79,
   "metadata": {},
   "outputs": [],
   "source": [
    "from sklearn.model_selection import train_test_split"
   ]
  },
  {
   "cell_type": "markdown",
   "metadata": {},
   "source": [
    "### Divisão do conjunto de dados completo em treino e teste"
   ]
  },
  {
   "cell_type": "markdown",
   "metadata": {},
   "source": [
    "80% para treino e 20% para testes"
   ]
  },
  {
   "cell_type": "code",
   "execution_count": 80,
   "metadata": {},
   "outputs": [],
   "source": [
    "treino, teste, classe_treino, classe_teste = train_test_split(df_completo[features],\n",
    "                                                              df_completo['fake'],\n",
    "                                                              test_size=0.20,\n",
    "                                                              random_state = 42,shuffle = True, stratify = df_completo['fake'])\n"
   ]
  },
  {
   "cell_type": "markdown",
   "metadata": {},
   "source": [
    "### Divisão do conjunto de dados de política em treino e teste"
   ]
  },
  {
   "cell_type": "code",
   "execution_count": 102,
   "metadata": {},
   "outputs": [],
   "source": [
    "features_pol = ['texto preprocessado2','emotiveness','number of tokens']\n",
    "treino_pol, teste_pol, classe_treino_pol, classe_teste_pol = train_test_split(df_politica[features_pol],\n",
    "                                                              df_politica['fake'],\n",
    "                                                              test_size=0.20,\n",
    "                                                              random_state = 42,shuffle = True, stratify = df_politica['fake'])\n"
   ]
  },
  {
   "cell_type": "markdown",
   "metadata": {},
   "source": [
    "## Avalição das combinações usando o classificador Regressão Logistica"
   ]
  },
  {
   "cell_type": "code",
   "execution_count": 42,
   "metadata": {},
   "outputs": [],
   "source": [
    "from sklearn.linear_model import LogisticRegression"
   ]
  },
  {
   "cell_type": "code",
   "execution_count": 43,
   "metadata": {},
   "outputs": [],
   "source": [
    "regressao_logistica = LogisticRegression(solver = \"lbfgs\")"
   ]
  },
  {
   "cell_type": "markdown",
   "metadata": {},
   "source": [
    "### Testes com pipeline que incluir texto (CountVectorizer e TFIDFTransform - Unigramas)"
   ]
  },
  {
   "cell_type": "code",
   "execution_count": 44,
   "metadata": {},
   "outputs": [],
   "source": [
    "from sklearn.pipeline import FeatureUnion"
   ]
  },
  {
   "cell_type": "code",
   "execution_count": 48,
   "metadata": {},
   "outputs": [
    {
     "name": "stdout",
     "output_type": "stream",
     "text": [
      "Accuracy: 0.8935763888888889\n",
      "Precision: 0.8942608695652174\n",
      "              precision    recall  f1-score   support\n",
      "\n",
      "           0       0.89      0.89      0.89      2880\n",
      "           1       0.89      0.89      0.89      2880\n",
      "\n",
      "   micro avg       0.89      0.89      0.89      5760\n",
      "   macro avg       0.89      0.89      0.89      5760\n",
      "weighted avg       0.89      0.89      0.89      5760\n",
      "\n",
      "[[2576  304]\n",
      " [ 309 2571]]\n"
     ]
    }
   ],
   "source": [
    "text_pipe = Pipeline([\n",
    "                ('selector', TextSelector(key='texto preprocessado2')),\n",
    "                ('cv', CountVectorizer(ngram_range=(1,1))),\n",
    "                ('tfidf', TfidfTransformer())\n",
    "            ])\n",
    "\n",
    "feats = FeatureUnion([('text', text_pipe), \n",
    "                     ])\n",
    "pipe = Pipeline([\n",
    "    ('features',feats),\n",
    "    ('classificador', regressao_logistica)\n",
    "])\n",
    "\n",
    "classificar_texto(pipe,treino, classe_treino,0)"
   ]
  },
  {
   "cell_type": "markdown",
   "metadata": {},
   "source": [
    "### Testes com pipeline que incluir texto (CountVectorizer e TFIDFTransform - Unigramas e Bigramas)"
   ]
  },
  {
   "cell_type": "code",
   "execution_count": 49,
   "metadata": {},
   "outputs": [
    {
     "name": "stdout",
     "output_type": "stream",
     "text": [
      "Accuracy: 0.8901041666666667\n",
      "Precision: 0.8848920863309353\n",
      "              precision    recall  f1-score   support\n",
      "\n",
      "           0       0.90      0.88      0.89      2880\n",
      "           1       0.88      0.90      0.89      2880\n",
      "\n",
      "   micro avg       0.89      0.89      0.89      5760\n",
      "   macro avg       0.89      0.89      0.89      5760\n",
      "weighted avg       0.89      0.89      0.89      5760\n",
      "\n",
      "[[2544  336]\n",
      " [ 297 2583]]\n"
     ]
    }
   ],
   "source": [
    "text_pipe = Pipeline([\n",
    "                ('selector', TextSelector(key='texto preprocessado2')),\n",
    "                ('cv', CountVectorizer(ngram_range=(1,2))),\n",
    "                ('tfidf', TfidfTransformer())\n",
    "            ])\n",
    "\n",
    "feats = FeatureUnion([('text', text_pipe), \n",
    "                     ])\n",
    "pipe = Pipeline([\n",
    "    ('features',feats),\n",
    "    ('classificador', regressao_logistica)\n",
    "])\n",
    "\n",
    "classificar_texto(pipe,treino, classe_treino,0)"
   ]
  },
  {
   "cell_type": "markdown",
   "metadata": {},
   "source": [
    "### Testes com pipeline que incluir texto (CountVectorizer e TFIDFTransform - Unigramas) e features numéricas número de palavras e tamanho da sentença normalizado"
   ]
  },
  {
   "cell_type": "code",
   "execution_count": 76,
   "metadata": {},
   "outputs": [],
   "source": [
    "from sklearn.preprocessing import StandardScaler, MinMaxScaler\n",
    "tokens_pipe =  Pipeline([\n",
    "                ('selector', NumberSelector(key='number of tokens')),\n",
    "                ('standard', MinMaxScaler())\n",
    "            ])"
   ]
  },
  {
   "cell_type": "code",
   "execution_count": 77,
   "metadata": {},
   "outputs": [],
   "source": [
    "from sklearn.preprocessing import StandardScaler, MinMaxScaler\n",
    "words_pipe =  Pipeline([\n",
    "                ('selector', NumberSelector(key='words')),\n",
    "                ('standard', MinMaxScaler())\n",
    "            ])"
   ]
  },
  {
   "cell_type": "code",
   "execution_count": 66,
   "metadata": {},
   "outputs": [],
   "source": [
    "from sklearn.preprocessing import StandardScaler, MinMaxScaler\n",
    "length_pipe =  Pipeline([\n",
    "                ('selector', NumberSelector(key='length')),\n",
    "                ('standard', MinMaxScaler())\n",
    "            ])"
   ]
  },
  {
   "cell_type": "code",
   "execution_count": 74,
   "metadata": {},
   "outputs": [
    {
     "name": "stderr",
     "output_type": "stream",
     "text": [
      "C:\\ProgramData\\Anaconda3\\lib\\site-packages\\sklearn\\preprocessing\\data.py:323: DataConversionWarning: Data with input dtype int64 were all converted to float64 by MinMaxScaler.\n",
      "  return self.partial_fit(X, y)\n",
      "C:\\ProgramData\\Anaconda3\\lib\\site-packages\\sklearn\\preprocessing\\data.py:323: DataConversionWarning: Data with input dtype int64 were all converted to float64 by MinMaxScaler.\n",
      "  return self.partial_fit(X, y)\n",
      "C:\\ProgramData\\Anaconda3\\lib\\site-packages\\sklearn\\preprocessing\\data.py:323: DataConversionWarning: Data with input dtype int64 were all converted to float64 by MinMaxScaler.\n",
      "  return self.partial_fit(X, y)\n",
      "C:\\ProgramData\\Anaconda3\\lib\\site-packages\\sklearn\\preprocessing\\data.py:323: DataConversionWarning: Data with input dtype int64 were all converted to float64 by MinMaxScaler.\n",
      "  return self.partial_fit(X, y)\n",
      "C:\\ProgramData\\Anaconda3\\lib\\site-packages\\sklearn\\preprocessing\\data.py:323: DataConversionWarning: Data with input dtype int64 were all converted to float64 by MinMaxScaler.\n",
      "  return self.partial_fit(X, y)\n",
      "C:\\ProgramData\\Anaconda3\\lib\\site-packages\\sklearn\\preprocessing\\data.py:323: DataConversionWarning: Data with input dtype int64 were all converted to float64 by MinMaxScaler.\n",
      "  return self.partial_fit(X, y)\n",
      "C:\\ProgramData\\Anaconda3\\lib\\site-packages\\sklearn\\preprocessing\\data.py:323: DataConversionWarning: Data with input dtype int64 were all converted to float64 by MinMaxScaler.\n",
      "  return self.partial_fit(X, y)\n",
      "C:\\ProgramData\\Anaconda3\\lib\\site-packages\\sklearn\\preprocessing\\data.py:323: DataConversionWarning: Data with input dtype int64 were all converted to float64 by MinMaxScaler.\n",
      "  return self.partial_fit(X, y)\n",
      "C:\\ProgramData\\Anaconda3\\lib\\site-packages\\sklearn\\preprocessing\\data.py:323: DataConversionWarning: Data with input dtype int64 were all converted to float64 by MinMaxScaler.\n",
      "  return self.partial_fit(X, y)\n",
      "C:\\ProgramData\\Anaconda3\\lib\\site-packages\\sklearn\\preprocessing\\data.py:323: DataConversionWarning: Data with input dtype int64 were all converted to float64 by MinMaxScaler.\n",
      "  return self.partial_fit(X, y)\n"
     ]
    },
    {
     "name": "stdout",
     "output_type": "stream",
     "text": [
      "Accuracy: 0.8934027777777778\n",
      "Precision: 0.8942240779401531\n",
      "              precision    recall  f1-score   support\n",
      "\n",
      "           0       0.89      0.89      0.89      2880\n",
      "           1       0.89      0.89      0.89      2880\n",
      "\n",
      "   micro avg       0.89      0.89      0.89      5760\n",
      "   macro avg       0.89      0.89      0.89      5760\n",
      "weighted avg       0.89      0.89      0.89      5760\n",
      "\n",
      "[[2576  304]\n",
      " [ 310 2570]]\n"
     ]
    }
   ],
   "source": [
    "from sklearn.pipeline import FeatureUnion\n",
    "\n",
    "text_pipe = Pipeline([\n",
    "                ('selector', TextSelector(key='texto preprocessado2')),\n",
    "                ('cv', CountVectorizer(ngram_range=(1,1))),\n",
    "                ('tfidf', TfidfTransformer())\n",
    "            ])\n",
    "\n",
    "feats = FeatureUnion([('text', text_pipe), \n",
    "                      ('words', words_pipe),\n",
    "                      ('length', length_pipe),\n",
    "                     ])\n",
    "\n",
    "pipe = Pipeline([\n",
    "    ('features',feats),\n",
    "    ('classificador', regressao_logistica)\n",
    "])\n",
    "\n",
    "classificar_texto(pipe,treino, classe_treino,0)"
   ]
  },
  {
   "cell_type": "code",
   "execution_count": 81,
   "metadata": {},
   "outputs": [
    {
     "name": "stderr",
     "output_type": "stream",
     "text": [
      "C:\\ProgramData\\Anaconda3\\lib\\site-packages\\sklearn\\preprocessing\\data.py:323: DataConversionWarning: Data with input dtype int64 were all converted to float64 by MinMaxScaler.\n",
      "  return self.partial_fit(X, y)\n",
      "C:\\ProgramData\\Anaconda3\\lib\\site-packages\\sklearn\\preprocessing\\data.py:323: DataConversionWarning: Data with input dtype int64 were all converted to float64 by MinMaxScaler.\n",
      "  return self.partial_fit(X, y)\n",
      "C:\\ProgramData\\Anaconda3\\lib\\site-packages\\sklearn\\preprocessing\\data.py:323: DataConversionWarning: Data with input dtype int64 were all converted to float64 by MinMaxScaler.\n",
      "  return self.partial_fit(X, y)\n",
      "C:\\ProgramData\\Anaconda3\\lib\\site-packages\\sklearn\\preprocessing\\data.py:323: DataConversionWarning: Data with input dtype int64 were all converted to float64 by MinMaxScaler.\n",
      "  return self.partial_fit(X, y)\n",
      "C:\\ProgramData\\Anaconda3\\lib\\site-packages\\sklearn\\preprocessing\\data.py:323: DataConversionWarning: Data with input dtype int64 were all converted to float64 by MinMaxScaler.\n",
      "  return self.partial_fit(X, y)\n"
     ]
    },
    {
     "name": "stdout",
     "output_type": "stream",
     "text": [
      "Accuracy: 0.9605902777777777\n",
      "Precision: 0.9370675453047776\n",
      "              precision    recall  f1-score   support\n",
      "\n",
      "           0       0.99      0.93      0.96      2880\n",
      "           1       0.94      0.99      0.96      2880\n",
      "\n",
      "   micro avg       0.96      0.96      0.96      5760\n",
      "   macro avg       0.96      0.96      0.96      5760\n",
      "weighted avg       0.96      0.96      0.96      5760\n",
      "\n",
      "[[2689  191]\n",
      " [  36 2844]]\n"
     ]
    }
   ],
   "source": [
    "from sklearn.pipeline import FeatureUnion\n",
    "\n",
    "text_pipe = Pipeline([\n",
    "                ('selector', TextSelector(key='texto preprocessado2')),\n",
    "                ('cv', CountVectorizer(ngram_range=(1,1))),\n",
    "                ('tfidf', TfidfTransformer())\n",
    "            ])\n",
    "\n",
    "feats = FeatureUnion([('text', text_pipe), \n",
    "                      ('ntokens', tokens_pipe)\n",
    "                     ])\n",
    "\n",
    "pipe = Pipeline([\n",
    "    ('features',feats),\n",
    "    ('classificador', regressao_logistica)\n",
    "])\n",
    "\n",
    "classificar_texto(pipe,treino, classe_treino,0)"
   ]
  },
  {
   "cell_type": "markdown",
   "metadata": {},
   "source": [
    "### Testes com pipeline que incluir texto (CountVectorizer e TFIDFTransform - Unigramas) e feature numérica Emotiveness normalizado"
   ]
  },
  {
   "cell_type": "code",
   "execution_count": 82,
   "metadata": {},
   "outputs": [
    {
     "name": "stdout",
     "output_type": "stream",
     "text": [
      "Accuracy: 0.8977430555555556\n",
      "Precision: 0.90066456803078\n",
      "              precision    recall  f1-score   support\n",
      "\n",
      "           0       0.89      0.90      0.90      2880\n",
      "           1       0.90      0.89      0.90      2880\n",
      "\n",
      "   micro avg       0.90      0.90      0.90      5760\n",
      "   macro avg       0.90      0.90      0.90      5760\n",
      "weighted avg       0.90      0.90      0.90      5760\n",
      "\n",
      "[[2596  284]\n",
      " [ 305 2575]]\n"
     ]
    }
   ],
   "source": [
    "text_pipe = Pipeline([\n",
    "                ('selector', TextSelector(key='texto preprocessado2')),\n",
    "                ('cv', CountVectorizer(ngram_range=(1,1))),\n",
    "                ('tfidf', TfidfTransformer())\n",
    "            ])\n",
    "\n",
    "from sklearn.preprocessing import StandardScaler, MinMaxScaler\n",
    "emotiveness_pipe =  Pipeline([\n",
    "                ('selector', NumberSelector(key='emotiveness')),\n",
    "                ('standard', MinMaxScaler())\n",
    "            ])\n",
    "\n",
    "feats = FeatureUnion([('text', text_pipe),\n",
    "                     ('emotiveness', emotiveness_pipe)\n",
    "                     ])\n",
    "pipe = Pipeline([\n",
    "    ('features',feats),\n",
    "    ('classificador', regressao_logistica)\n",
    "])\n",
    "\n",
    "classificar_texto(pipe,treino, classe_treino,0)"
   ]
  },
  {
   "cell_type": "markdown",
   "metadata": {},
   "source": [
    "### Testes com pipeline que incluir texto (CountVectorizer e TFIDFTransform - Unigramas) e feature numérica Emotiveness normalizado"
   ]
  },
  {
   "cell_type": "code",
   "execution_count": 81,
   "metadata": {},
   "outputs": [
    {
     "name": "stdout",
     "output_type": "stream",
     "text": [
      "Accuracy: 0.8973958333333333\n",
      "Precision: 0.9005950297514875\n",
      "              precision    recall  f1-score   support\n",
      "\n",
      "           0       0.89      0.90      0.90      2880\n",
      "           1       0.90      0.89      0.90      2880\n",
      "\n",
      "   micro avg       0.90      0.90      0.90      5760\n",
      "   macro avg       0.90      0.90      0.90      5760\n",
      "weighted avg       0.90      0.90      0.90      5760\n",
      "\n",
      "[[2596  284]\n",
      " [ 307 2573]]\n"
     ]
    }
   ],
   "source": [
    "text_pipe = Pipeline([\n",
    "                ('selector', TextSelector(key='texto preprocessado2')),\n",
    "                ('cv', CountVectorizer(ngram_range=(1,1))),\n",
    "                ('tfidf', TfidfTransformer())\n",
    "            ])\n",
    "\n",
    "feats = FeatureUnion([('text', text_pipe),\n",
    "                     ('emotiveness', emotiveness_pipe)\n",
    "                     ])\n",
    "pipe = Pipeline([\n",
    "    ('features',feats),\n",
    "    ('classificador', regressao_logistica)\n",
    "])\n",
    "\n",
    "classificar_texto(pipe,treino, classe_treino,0)"
   ]
  },
  {
   "cell_type": "markdown",
   "metadata": {},
   "source": [
    "## Avalição das combinações usando o classificador SVM Linear SVC"
   ]
  },
  {
   "cell_type": "code",
   "execution_count": 50,
   "metadata": {},
   "outputs": [],
   "source": [
    "from sklearn.svm import SVC,LinearSVC\n",
    "svc = LinearSVC(random_state=0,loss='hinge',max_iter=5000)"
   ]
  },
  {
   "cell_type": "markdown",
   "metadata": {},
   "source": [
    "### Testes com pipeline que incluir texto (CountVectorizer e TFIDFTransform - Unigramas)"
   ]
  },
  {
   "cell_type": "code",
   "execution_count": 52,
   "metadata": {},
   "outputs": [
    {
     "name": "stdout",
     "output_type": "stream",
     "text": [
      "Accuracy: 0.9013888888888889\n",
      "Precision: 0.9044786564030791\n",
      "              precision    recall  f1-score   support\n",
      "\n",
      "           0       0.90      0.91      0.90      2880\n",
      "           1       0.90      0.90      0.90      2880\n",
      "\n",
      "   micro avg       0.90      0.90      0.90      5760\n",
      "   macro avg       0.90      0.90      0.90      5760\n",
      "weighted avg       0.90      0.90      0.90      5760\n",
      "\n",
      "[[2607  273]\n",
      " [ 295 2585]]\n"
     ]
    }
   ],
   "source": [
    "text_pipe = Pipeline([\n",
    "                ('selector', TextSelector(key='texto preprocessado2')),\n",
    "                ('cv', CountVectorizer(ngram_range=(1,1))),\n",
    "                ('tfidf', TfidfTransformer())\n",
    "            ])\n",
    "\n",
    "feats = FeatureUnion([('text', text_pipe)\n",
    "                     ])\n",
    "\n",
    "pipe = Pipeline([\n",
    "    ('features',feats),\n",
    "    ('classificador', svc),\n",
    "])\n",
    "\n",
    "classificar_texto(pipe,treino, classe_treino,0)"
   ]
  },
  {
   "cell_type": "markdown",
   "metadata": {},
   "source": [
    "### Testes com pipeline que incluir texto (CountVectorizer e TFIDFTransform - Unigramas e Bigramas)"
   ]
  },
  {
   "cell_type": "code",
   "execution_count": 86,
   "metadata": {},
   "outputs": [
    {
     "name": "stdout",
     "output_type": "stream",
     "text": [
      "Accuracy: 0.9119791666666667\n",
      "Precision: 0.9144254278728606\n",
      "              precision    recall  f1-score   support\n",
      "\n",
      "           0       0.91      0.91      0.91      2880\n",
      "           1       0.91      0.91      0.91      2880\n",
      "\n",
      "   micro avg       0.91      0.91      0.91      5760\n",
      "   macro avg       0.91      0.91      0.91      5760\n",
      "weighted avg       0.91      0.91      0.91      5760\n",
      "\n",
      "[[2635  245]\n",
      " [ 262 2618]]\n"
     ]
    }
   ],
   "source": [
    "text_pipe = Pipeline([\n",
    "                ('selector', TextSelector(key='texto preprocessado2')),\n",
    "                ('cv', CountVectorizer(ngram_range=(1,2))),\n",
    "                ('tfidf', TfidfTransformer())\n",
    "            ])\n",
    "\n",
    "feats = FeatureUnion([('text', text_pipe)\n",
    "                     ])\n",
    "\n",
    "pipe = Pipeline([\n",
    "    ('features',feats),\n",
    "    ('classificador', svc),\n",
    "])\n",
    "\n",
    "classificar_texto(pipe,treino, classe_treino,0)"
   ]
  },
  {
   "cell_type": "markdown",
   "metadata": {},
   "source": [
    "### Testes com pipeline que incluir texto (CountVectorizer e TFIDFTransform - Unigramas e Bigramas) e a feature numérica emotiviness"
   ]
  },
  {
   "cell_type": "code",
   "execution_count": 85,
   "metadata": {},
   "outputs": [
    {
     "name": "stdout",
     "output_type": "stream",
     "text": [
      "Accuracy: 0.9118055555555555\n",
      "Precision: 0.9143955276030747\n",
      "              precision    recall  f1-score   support\n",
      "\n",
      "           0       0.91      0.91      0.91      2880\n",
      "           1       0.91      0.91      0.91      2880\n",
      "\n",
      "   micro avg       0.91      0.91      0.91      5760\n",
      "   macro avg       0.91      0.91      0.91      5760\n",
      "weighted avg       0.91      0.91      0.91      5760\n",
      "\n",
      "[[2635  245]\n",
      " [ 263 2617]]\n"
     ]
    }
   ],
   "source": [
    "text_pipe = Pipeline([\n",
    "                ('selector', TextSelector(key='texto preprocessado2')),\n",
    "                ('cv', CountVectorizer(ngram_range=(1,2))),\n",
    "                ('tfidf', TfidfTransformer())\n",
    "                    ])\n",
    "\n",
    "from sklearn.preprocessing import MinMaxScaler\n",
    "emotiveness_pipe =  Pipeline([\n",
    "                ('selector', NumberSelector(key='emotiveness')),\n",
    "                ('standard', MinMaxScaler())\n",
    "            ])\n",
    "\n",
    "feats = FeatureUnion([('text', text_pipe),\n",
    "                      ('emotiveness', emotiveness_pipe)\n",
    "                     ])\n",
    "\n",
    "pipe = Pipeline([\n",
    "    ('features',feats),\n",
    "    ('classificador', svc),\n",
    "])\n",
    "\n",
    "\n",
    "classificar_texto(pipe,treino, classe_treino,0)"
   ]
  },
  {
   "cell_type": "code",
   "execution_count": 60,
   "metadata": {},
   "outputs": [
    {
     "data": {
      "text/plain": [
       "LinearSVC(C=1.0, class_weight=None, dual=True, fit_intercept=True,\n",
       "     intercept_scaling=1, loss='hinge', max_iter=5000, multi_class='ovr',\n",
       "     penalty='l2', random_state=0, tol=0.0001, verbose=0)"
      ]
     },
     "execution_count": 60,
     "metadata": {},
     "output_type": "execute_result"
    }
   ],
   "source": [
    "svc"
   ]
  },
  {
   "cell_type": "code",
   "execution_count": 61,
   "metadata": {},
   "outputs": [
    {
     "data": {
      "text/plain": [
       "CountVectorizer(analyzer='word', binary=False, decode_error='strict',\n",
       "        dtype=<class 'numpy.int64'>, encoding='utf-8', input='content',\n",
       "        lowercase=True, max_df=1.0, max_features=None, min_df=1,\n",
       "        ngram_range=(1, 2), preprocessor=None, stop_words=None,\n",
       "        strip_accents=None, token_pattern='(?u)\\\\b\\\\w\\\\w+\\\\b',\n",
       "        tokenizer=None, vocabulary=None)"
      ]
     },
     "execution_count": 61,
     "metadata": {},
     "output_type": "execute_result"
    }
   ],
   "source": [
    "text_pipe.get_params()['cv']"
   ]
  },
  {
   "cell_type": "code",
   "execution_count": 87,
   "metadata": {},
   "outputs": [],
   "source": [
    "preds = pipe.predict(teste)"
   ]
  },
  {
   "cell_type": "code",
   "execution_count": 88,
   "metadata": {},
   "outputs": [
    {
     "name": "stdout",
     "output_type": "stream",
     "text": [
      "Accuracy: 0.9034722222222222\n",
      "Precision: 0.9074333800841514\n",
      "              precision    recall  f1-score   support\n",
      "\n",
      "           0       0.90      0.91      0.90       720\n",
      "           1       0.91      0.90      0.90       720\n",
      "\n",
      "   micro avg       0.90      0.90      0.90      1440\n",
      "   macro avg       0.90      0.90      0.90      1440\n",
      "weighted avg       0.90      0.90      0.90      1440\n",
      "\n",
      "[[654  66]\n",
      " [ 73 647]]\n"
     ]
    }
   ],
   "source": [
    "print (\"Accuracy:\", accuracy_score(classe_teste, preds))\n",
    "print (\"Precision:\", precision_score(classe_teste, preds))\n",
    "print (classification_report(classe_teste, preds))\n",
    "print (confusion_matrix(classe_teste, preds))"
   ]
  },
  {
   "cell_type": "markdown",
   "metadata": {},
   "source": [
    "### Teste Conjunto de dados com todas as categorias de noticias pipeline incluindo texto (unigrama e bigrama) e a feature numérica numéro de tokens"
   ]
  },
  {
   "cell_type": "code",
   "execution_count": null,
   "metadata": {},
   "outputs": [],
   "source": []
  },
  {
   "cell_type": "code",
   "execution_count": 89,
   "metadata": {},
   "outputs": [
    {
     "name": "stderr",
     "output_type": "stream",
     "text": [
      "C:\\ProgramData\\Anaconda3\\lib\\site-packages\\sklearn\\preprocessing\\data.py:323: DataConversionWarning: Data with input dtype int64 were all converted to float64 by MinMaxScaler.\n",
      "  return self.partial_fit(X, y)\n",
      "C:\\ProgramData\\Anaconda3\\lib\\site-packages\\sklearn\\preprocessing\\data.py:323: DataConversionWarning: Data with input dtype int64 were all converted to float64 by MinMaxScaler.\n",
      "  return self.partial_fit(X, y)\n",
      "C:\\ProgramData\\Anaconda3\\lib\\site-packages\\sklearn\\preprocessing\\data.py:323: DataConversionWarning: Data with input dtype int64 were all converted to float64 by MinMaxScaler.\n",
      "  return self.partial_fit(X, y)\n",
      "C:\\ProgramData\\Anaconda3\\lib\\site-packages\\sklearn\\preprocessing\\data.py:323: DataConversionWarning: Data with input dtype int64 were all converted to float64 by MinMaxScaler.\n",
      "  return self.partial_fit(X, y)\n",
      "C:\\ProgramData\\Anaconda3\\lib\\site-packages\\sklearn\\preprocessing\\data.py:323: DataConversionWarning: Data with input dtype int64 were all converted to float64 by MinMaxScaler.\n",
      "  return self.partial_fit(X, y)\n"
     ]
    },
    {
     "name": "stdout",
     "output_type": "stream",
     "text": [
      "Accuracy: 0.9621527777777777\n",
      "Precision: 0.9363934426229508\n",
      "              precision    recall  f1-score   support\n",
      "\n",
      "           0       0.99      0.93      0.96      2880\n",
      "           1       0.94      0.99      0.96      2880\n",
      "\n",
      "   micro avg       0.96      0.96      0.96      5760\n",
      "   macro avg       0.96      0.96      0.96      5760\n",
      "weighted avg       0.96      0.96      0.96      5760\n",
      "\n",
      "[[2686  194]\n",
      " [  24 2856]]\n"
     ]
    }
   ],
   "source": [
    "from sklearn.pipeline import FeatureUnion\n",
    "\n",
    "text_pipe = Pipeline([\n",
    "                ('selector', TextSelector(key='texto preprocessado2')),\n",
    "                ('cv', CountVectorizer(ngram_range=(1,2))),\n",
    "                ('tfidf', TfidfTransformer())\n",
    "            ])\n",
    "\n",
    "feats = FeatureUnion([('text', text_pipe), \n",
    "                      ('ntokens', tokens_pipe)\n",
    "                     ])\n",
    "\n",
    "pipe = Pipeline([\n",
    "    ('features',feats),\n",
    "    ('classificador', svc)\n",
    "])\n",
    "\n",
    "classificar_texto(pipe,treino, classe_treino,0)"
   ]
  },
  {
   "cell_type": "markdown",
   "metadata": {},
   "source": [
    "## Avalição das combinações usando o classificador XGBoost"
   ]
  },
  {
   "cell_type": "markdown",
   "metadata": {},
   "source": [
    "### Testes com pipeline que incluir texto (CountVectorizer e TFIDFTransform - Unigramas)"
   ]
  },
  {
   "cell_type": "code",
   "execution_count": 90,
   "metadata": {},
   "outputs": [],
   "source": [
    "from xgboost import XGBClassifier\n",
    "xbc = XGBClassifier(max_depth=4, n_estimators=300, learning_rate=0.1,subsample= 0.5)"
   ]
  },
  {
   "cell_type": "code",
   "execution_count": 91,
   "metadata": {},
   "outputs": [
    {
     "name": "stdout",
     "output_type": "stream",
     "text": [
      "Accuracy: 0.8883680555555555\n",
      "Precision: 0.8882332523429365\n",
      "              precision    recall  f1-score   support\n",
      "\n",
      "           0       0.89      0.89      0.89      2880\n",
      "           1       0.89      0.89      0.89      2880\n",
      "\n",
      "   micro avg       0.89      0.89      0.89      5760\n",
      "   macro avg       0.89      0.89      0.89      5760\n",
      "weighted avg       0.89      0.89      0.89      5760\n",
      "\n",
      "[[2558  322]\n",
      " [ 321 2559]]\n"
     ]
    }
   ],
   "source": [
    "text_pipe = Pipeline([\n",
    "                ('selector', TextSelector(key='texto preprocessado2')),\n",
    "                ('cv', CountVectorizer(ngram_range=(1,1))),\n",
    "                ('tfidf', TfidfTransformer())\n",
    "            ])\n",
    "\n",
    "feats = FeatureUnion([('text', text_pipe)\n",
    "                     ])\n",
    "\n",
    "pipe = Pipeline([\n",
    "    ('features',feats),\n",
    "    ('classificador', xbc),\n",
    "])\n",
    "\n",
    "classificar_texto(pipe,treino, classe_treino,0)"
   ]
  },
  {
   "cell_type": "markdown",
   "metadata": {},
   "source": [
    "### Testes com pipeline que incluir texto (CountVectorizer e TFIDFTransform - Unigramas e Bigramas)"
   ]
  },
  {
   "cell_type": "code",
   "execution_count": 92,
   "metadata": {},
   "outputs": [
    {
     "name": "stdout",
     "output_type": "stream",
     "text": [
      "Accuracy: 0.8880208333333334\n",
      "Precision: 0.8964171692089393\n",
      "              precision    recall  f1-score   support\n",
      "\n",
      "           0       0.88      0.90      0.89      2880\n",
      "           1       0.90      0.88      0.89      2880\n",
      "\n",
      "   micro avg       0.89      0.89      0.89      5760\n",
      "   macro avg       0.89      0.89      0.89      5760\n",
      "weighted avg       0.89      0.89      0.89      5760\n",
      "\n",
      "[[2588  292]\n",
      " [ 353 2527]]\n"
     ]
    }
   ],
   "source": [
    "text_pipe = Pipeline([\n",
    "                ('selector', TextSelector(key='texto preprocessado2')),\n",
    "                ('cv', CountVectorizer(ngram_range=(1,2))),\n",
    "                ('tfidf', TfidfTransformer())\n",
    "            ])\n",
    "\n",
    "feats = FeatureUnion([('text', text_pipe)\n",
    "                     ])\n",
    "\n",
    "pipe = Pipeline([\n",
    "    ('features',feats),\n",
    "    ('classificador', xbc),\n",
    "])\n",
    "\n",
    "classificar_texto(pipe,treino, classe_treino,0)"
   ]
  },
  {
   "cell_type": "markdown",
   "metadata": {},
   "source": [
    "### Teste Conjunto de dados com pipeline incluindo texto (unigramas e bigramas) e emotiveness"
   ]
  },
  {
   "cell_type": "code",
   "execution_count": 76,
   "metadata": {},
   "outputs": [],
   "source": [
    "text_pipe = Pipeline([\n",
    "                ('selector', TextSelector(key='texto preprocessado2')),\n",
    "                ('cv', CountVectorizer(ngram_range=(1,2))),\n",
    "                ('tfidf', TfidfTransformer())\n",
    "                    ])\n",
    "\n",
    "from sklearn.preprocessing import MinMaxScaler\n",
    "emotiveness_pipe =  Pipeline([\n",
    "                ('selector', NumberSelector(key='emotiveness')),\n",
    "                ('standard', MinMaxScaler())\n",
    "            ])\n",
    "\n",
    "feats = FeatureUnion([('text', text_pipe),\n",
    "                      ('emotiveness', emotiveness_pipe)\n",
    "                     ])\n",
    "\n",
    "pipe = Pipeline([\n",
    "    ('features',feats),\n",
    "    ('classificador', xbc)\n",
    "])\n",
    "\n",
    "\n",
    "classificar_texto(pipe,treino, classe_treino,0)"
   ]
  },
  {
   "cell_type": "code",
   "execution_count": null,
   "metadata": {},
   "outputs": [],
   "source": []
  },
  {
   "cell_type": "markdown",
   "metadata": {},
   "source": [
    "## Avalição das combinações usando o classificador Naive Bayes"
   ]
  },
  {
   "cell_type": "code",
   "execution_count": 97,
   "metadata": {},
   "outputs": [],
   "source": [
    "from sklearn.naive_bayes import MultinomialNB\n",
    "nb = MultinomialNB()"
   ]
  },
  {
   "cell_type": "markdown",
   "metadata": {},
   "source": [
    "### Testes com pipeline que incluir texto (CountVectorizer e TFIDFTransform - Unigramas)"
   ]
  },
  {
   "cell_type": "code",
   "execution_count": 98,
   "metadata": {},
   "outputs": [
    {
     "name": "stdout",
     "output_type": "stream",
     "text": [
      "Accuracy: 0.8526041666666667\n",
      "Precision: 0.865945945945946\n",
      "              precision    recall  f1-score   support\n",
      "\n",
      "           0       0.84      0.87      0.86      2880\n",
      "           1       0.87      0.83      0.85      2880\n",
      "\n",
      "   micro avg       0.85      0.85      0.85      5760\n",
      "   macro avg       0.85      0.85      0.85      5760\n",
      "weighted avg       0.85      0.85      0.85      5760\n",
      "\n",
      "[[2508  372]\n",
      " [ 477 2403]]\n"
     ]
    }
   ],
   "source": [
    "\n",
    "text_pipe = Pipeline([\n",
    "                ('selector', TextSelector(key='texto preprocessado2')),\n",
    "                ('cv', CountVectorizer(ngram_range=(1,1))),\n",
    "                ('tfidf', TfidfTransformer())\n",
    "            ])\n",
    "\n",
    "feats = FeatureUnion([('text', text_pipe)\n",
    "                     ])\n",
    "\n",
    "pipe = Pipeline([\n",
    "    ('features',feats),\n",
    "    ('classificador', nb)\n",
    "])\n",
    "\n",
    "classificar_texto(pipe,treino, classe_treino,0)"
   ]
  },
  {
   "cell_type": "markdown",
   "metadata": {},
   "source": [
    "### Testes com pipeline que incluir texto (CountVectorizer e TFIDFTransform - Unigramas e Bigramas)"
   ]
  },
  {
   "cell_type": "code",
   "execution_count": 99,
   "metadata": {},
   "outputs": [
    {
     "name": "stdout",
     "output_type": "stream",
     "text": [
      "Accuracy: 0.8664930555555556\n",
      "Precision: 0.8876239441792141\n",
      "              precision    recall  f1-score   support\n",
      "\n",
      "           0       0.85      0.89      0.87      2880\n",
      "           1       0.89      0.84      0.86      2880\n",
      "\n",
      "   micro avg       0.87      0.87      0.87      5760\n",
      "   macro avg       0.87      0.87      0.87      5760\n",
      "weighted avg       0.87      0.87      0.87      5760\n",
      "\n",
      "[[2574  306]\n",
      " [ 463 2417]]\n"
     ]
    }
   ],
   "source": [
    "\n",
    "text_pipe = Pipeline([\n",
    "                ('selector', TextSelector(key='texto preprocessado2')),\n",
    "                ('cv', CountVectorizer(ngram_range=(1,2))),\n",
    "                ('tfidf', TfidfTransformer())\n",
    "            ])\n",
    "\n",
    "feats = FeatureUnion([('text', text_pipe)\n",
    "                     ])\n",
    "\n",
    "pipe = Pipeline([\n",
    "    ('features',feats),\n",
    "    ('classificador', nb)\n",
    "])\n",
    "\n",
    "classificar_texto(pipe,treino, classe_treino,0)"
   ]
  },
  {
   "cell_type": "markdown",
   "metadata": {},
   "source": [
    "### Teste Conjunto de dados com pipeline incluindo texto (unigramas e bigramas) e emotiveness"
   ]
  },
  {
   "cell_type": "code",
   "execution_count": 100,
   "metadata": {},
   "outputs": [
    {
     "name": "stdout",
     "output_type": "stream",
     "text": [
      "Accuracy: 0.8652777777777778\n",
      "Precision: 0.8896296296296297\n",
      "              precision    recall  f1-score   support\n",
      "\n",
      "           0       0.84      0.90      0.87      2880\n",
      "           1       0.89      0.83      0.86      2880\n",
      "\n",
      "   micro avg       0.87      0.87      0.87      5760\n",
      "   macro avg       0.87      0.87      0.87      5760\n",
      "weighted avg       0.87      0.87      0.87      5760\n",
      "\n",
      "[[2582  298]\n",
      " [ 478 2402]]\n"
     ]
    }
   ],
   "source": [
    "text_pipe = Pipeline([\n",
    "                ('selector', TextSelector(key='texto preprocessado2')),\n",
    "                ('cv', CountVectorizer(ngram_range=(1,2))),\n",
    "                ('tfidf', TfidfTransformer())\n",
    "                    ])\n",
    "\n",
    "from sklearn.preprocessing import MinMaxScaler\n",
    "emotiveness_pipe =  Pipeline([\n",
    "                ('selector', NumberSelector(key='emotiveness')),\n",
    "                ('standard', MinMaxScaler())\n",
    "            ])\n",
    "\n",
    "feats = FeatureUnion([('text', text_pipe),\n",
    "                      ('emotiveness', emotiveness_pipe)\n",
    "                     ])\n",
    "\n",
    "pipe = Pipeline([\n",
    "    ('features',feats),\n",
    "    ('classificador', nb)\n",
    "])\n",
    "\n",
    "\n",
    "classificar_texto(pipe,treino, classe_treino,0)"
   ]
  },
  {
   "cell_type": "markdown",
   "metadata": {},
   "source": [
    "## Grid Search CV para otimização do Linear SVC"
   ]
  },
  {
   "cell_type": "code",
   "execution_count": 87,
   "metadata": {},
   "outputs": [],
   "source": [
    "from sklearn.svm import SVC,LinearSVC\n",
    "svc = LinearSVC(random_state=0)\n",
    "feats = FeatureUnion([('text', text_pipe),\n",
    "                     ('emotiveness', emotiveness_pipe)\n",
    "                     ])\n",
    "pipe = Pipeline([\n",
    "    ('features',feats),\n",
    "    ('classificador', svc)\n",
    "])"
   ]
  },
  {
   "cell_type": "code",
   "execution_count": 88,
   "metadata": {},
   "outputs": [
    {
     "name": "stdout",
     "output_type": "stream",
     "text": [
      "{'classificador__C': 1, 'classificador__loss': 'hinge', 'classificador__tol': 0.0001}\n"
     ]
    }
   ],
   "source": [
    "from sklearn.model_selection import GridSearchCV\n",
    "\n",
    "hyperparameters = { 'classificador__C':[0.01,1,10,100,1000],\n",
    "                   'classificador__tol':[0.0001,0.001,0.01],\n",
    "                   'classificador__loss':['hinge','squared_hinge']                  }\n",
    "clf = GridSearchCV(pipe, hyperparameters, cv=5)\n",
    "\n",
    "clf.fit(treino,classe_treino)\n",
    "\n",
    "print(clf.best_params_)"
   ]
  },
  {
   "cell_type": "code",
   "execution_count": null,
   "metadata": {},
   "outputs": [],
   "source": []
  },
  {
   "cell_type": "markdown",
   "metadata": {},
   "source": [
    "## Vizualização do Feature Importance"
   ]
  },
  {
   "cell_type": "code",
   "execution_count": 93,
   "metadata": {},
   "outputs": [],
   "source": [
    "import matplotlib.pyplot as plt\n",
    "\n",
    "def plot_coefficients(classifier, feature_names, top_features=20):\n",
    "    coef = classifier.coef_.ravel()\n",
    "    top_positive_coefficients = np.argsort(coef)[-top_features:]\n",
    "#    top_negative_coefficients = np.argsort(coef)[:top_features]\n",
    "    top_coefficients = np.hstack([ top_positive_coefficients])\n",
    "    # create plot\n",
    "    plt.figure(figsize=(15, 5))\n",
    "    colors = ['red' if c < 0 else 'blue' for c in coef[top_coefficients]]\n",
    "    plt.bar(np.arange(top_features), coef[top_coefficients], color=colors)\n",
    "    feature_names = np.array(feature_names)\n",
    "    plt.xticks(np.arange(0, top_features), feature_names[top_coefficients],rotation=90)\n",
    "    plt.xlabel('feature')\n",
    "    plt.ylabel('coeficiente de importancia')\n",
    "    plt.title('Feature importance')\n",
    "    plt.show()"
   ]
  },
  {
   "cell_type": "code",
   "execution_count": 90,
   "metadata": {},
   "outputs": [
    {
     "name": "stdout",
     "output_type": "stream",
     "text": [
      "320866\n"
     ]
    }
   ],
   "source": [
    "cv = text_pipe.get_params()['cv']\n",
    "print(len(cv.vocabulary_))"
   ]
  },
  {
   "cell_type": "code",
   "execution_count": 40,
   "metadata": {},
   "outputs": [],
   "source": [
    "features.append('emotiveness')"
   ]
  },
  {
   "cell_type": "code",
   "execution_count": 94,
   "metadata": {},
   "outputs": [
    {
     "data": {
      "image/png": "[encoded data removed]",
      "text/plain": [
       "<Figure size 1080x360 with 1 Axes>"
      ]
     },
     "metadata": {
      "needs_background": "light"
     },
     "output_type": "display_data"
    }
   ],
   "source": [
    "plot_coefficients(svc, features,30)"
   ]
  },
  {
   "cell_type": "code",
   "execution_count": null,
   "metadata": {},
   "outputs": [],
   "source": []
  }
 ],
 "metadata": {
  "kernelspec": {
   "display_name": "Python 3",
   "language": "python",
   "name": "python3"
  },
  "language_info": {
   "codemirror_mode": {
    "name": "ipython",
    "version": 3
   },
   "file_extension": ".py",
   "mimetype": "text/x-python",
   "name": "python",
   "nbconvert_exporter": "python",
   "pygments_lexer": "ipython3",
   "version": "3.7.1"
  }
 },
 "nbformat": 4,
 "nbformat_minor": 2
}
